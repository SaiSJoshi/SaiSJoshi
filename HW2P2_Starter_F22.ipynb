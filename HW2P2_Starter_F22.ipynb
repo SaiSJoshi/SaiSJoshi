{
  "cells": [
    {
      "cell_type": "markdown",
      "metadata": {
        "id": "view-in-github",
        "colab_type": "text"
      },
      "source": [
        "<a href=\"https://colab.research.google.com/github/SaiSJoshi/SaiSJoshi/blob/main/HW2P2_Starter_F22.ipynb\" target=\"_parent\"><img src=\"https://colab.research.google.com/assets/colab-badge.svg\" alt=\"Open In Colab\"/></a>"
      ]
    },
    {
      "cell_type": "markdown",
      "metadata": {
        "id": "XBITN0M_LKds"
      },
      "source": [
        "# HW2P2: Face Classification and Verification\n"
      ]
    },
    {
      "cell_type": "markdown",
      "metadata": {
        "id": "-NH4P-HzLRQs"
      },
      "source": [
        "Congrats on coming to the second homework in 11785: Introduction to Deep Learning. This homework significantly longer and tougher than the previous homework. You have 2 sub-parts as outlined below. Please start early! \n",
        "\n",
        "\n",
        "*   Face Recognition: You will be writing your own CNN model to tackle the problem of classification, consisting of 7000 identities\n",
        "*   Face Verification: You use the model trained for classification to evaluate the quality of its feature embeddings, by comparing the similarity of known and unknown identities\n",
        "\n",
        "For this HW, you only have to write code to implement your model architecture. Everything else has been provided for you, on the pretext that most of your time will be used up in developing the suitable model architecture for achieving satisfactory performance."
      ]
    },
    {
      "cell_type": "markdown",
      "metadata": {
        "id": "i1B_m84_cU6c"
      },
      "source": [
        "Common errors which you may face in this homeworks (because of the size of the model)\n",
        "\n",
        "\n",
        "*   CUDA Out of Memory (OOM): You can tackle this problem by (1) Reducing the batch size (2) Calling `torch.cuda.empty_cache()` and `gc.collect()` (3) Finally restarting the runtime\n",
        "\n"
      ]
    },
    {
      "cell_type": "markdown",
      "metadata": {
        "id": "BdoDIKWOMF59"
      },
      "source": [
        "# Preliminaries"
      ]
    },
    {
      "cell_type": "code",
      "execution_count": 5,
      "metadata": {
        "colab": {
          "base_uri": "https://localhost:8080/"
        },
        "id": "Jza7lwiScUhb",
        "outputId": "760e424c-7501-4bf6-f367-2c7b488200ac"
      },
      "outputs": [
        {
          "output_type": "stream",
          "name": "stdout",
          "text": [
            "Thu Oct 20 03:00:54 2022       \n",
            "+-----------------------------------------------------------------------------+\n",
            "| NVIDIA-SMI 460.32.03    Driver Version: 460.32.03    CUDA Version: 11.2     |\n",
            "|-------------------------------+----------------------+----------------------+\n",
            "| GPU  Name        Persistence-M| Bus-Id        Disp.A | Volatile Uncorr. ECC |\n",
            "| Fan  Temp  Perf  Pwr:Usage/Cap|         Memory-Usage | GPU-Util  Compute M. |\n",
            "|                               |                      |               MIG M. |\n",
            "|===============================+======================+======================|\n",
            "|   0  Tesla T4            Off  | 00000000:00:04.0 Off |                    0 |\n",
            "| N/A   36C    P8     9W /  70W |      3MiB / 15109MiB |      0%      Default |\n",
            "|                               |                      |                  N/A |\n",
            "+-------------------------------+----------------------+----------------------+\n",
            "                                                                               \n",
            "+-----------------------------------------------------------------------------+\n",
            "| Processes:                                                                  |\n",
            "|  GPU   GI   CI        PID   Type   Process name                  GPU Memory |\n",
            "|        ID   ID                                                   Usage      |\n",
            "|=============================================================================|\n",
            "|  No running processes found                                                 |\n",
            "+-----------------------------------------------------------------------------+\n"
          ]
        }
      ],
      "source": [
        "!nvidia-smi # to see what GPU you have"
      ]
    },
    {
      "cell_type": "code",
      "execution_count": 6,
      "metadata": {
        "id": "bTxfd_nqFnL9"
      },
      "outputs": [],
      "source": [
        "!pip install wandb --quiet"
      ]
    },
    {
      "cell_type": "code",
      "execution_count": 7,
      "metadata": {
        "colab": {
          "base_uri": "https://localhost:8080/"
        },
        "id": "jwLEd0gdPbSc",
        "outputId": "822c50a0-ac74-4ed1-cce6-b9996bfec81d"
      },
      "outputs": [
        {
          "output_type": "stream",
          "name": "stdout",
          "text": [
            "Device:  cuda\n"
          ]
        }
      ],
      "source": [
        "import torch\n",
        "import torch.nn as nn\n",
        "from torchsummary import summary\n",
        "import torchvision #This library is used for image-based operations (Augmentations)\n",
        "import os\n",
        "import gc\n",
        "from tqdm import tqdm\n",
        "from PIL import Image\n",
        "import numpy as np\n",
        "import pandas as pd\n",
        "from sklearn.metrics import accuracy_score\n",
        "import glob\n",
        "import wandb\n",
        "device = 'cuda' if torch.cuda.is_available() else 'cpu'\n",
        "print(\"Device: \", device)"
      ]
    },
    {
      "cell_type": "code",
      "execution_count": 8,
      "metadata": {
        "colab": {
          "base_uri": "https://localhost:8080/"
        },
        "id": "SRz9et3SZnbO",
        "outputId": "21d4a9a7-c42d-41a1-c795-fc17d286f0aa"
      },
      "outputs": [
        {
          "output_type": "stream",
          "name": "stdout",
          "text": [
            "Mounted at /content/drive\n"
          ]
        }
      ],
      "source": [
        "from google.colab import drive # Link your drive if you are a colab user\n",
        "drive.mount('/content/drive') # Models in this HW take a long time to get trained and make sure to save it her"
      ]
    },
    {
      "cell_type": "markdown",
      "metadata": {
        "id": "1oxQNl-YVWHc"
      },
      "source": [
        "# TODOs\n",
        "As you go, please read the code and keep an eye out for TODOs!"
      ]
    },
    {
      "cell_type": "markdown",
      "metadata": {
        "id": "scOnMklwWBY6"
      },
      "source": [
        "# Download Data from Kaggle"
      ]
    },
    {
      "cell_type": "code",
      "execution_count": 9,
      "metadata": {
        "id": "6BksgPdkQwwb",
        "colab": {
          "base_uri": "https://localhost:8080/"
        },
        "outputId": "74123da4-ffd7-4033-b2d9-1cf876d4dd38"
      },
      "outputs": [
        {
          "output_type": "stream",
          "name": "stdout",
          "text": [
            "Looking in indexes: https://pypi.org/simple, https://us-python.pkg.dev/colab-wheels/public/simple/\n",
            "Collecting kaggle==1.5.8\n",
            "  Downloading kaggle-1.5.8.tar.gz (59 kB)\n",
            "\u001b[K     |████████████████████████████████| 59 kB 3.2 MB/s \n",
            "\u001b[?25hBuilding wheels for collected packages: kaggle\n",
            "  Building wheel for kaggle (setup.py) ... \u001b[?25l\u001b[?25hdone\n",
            "  Created wheel for kaggle: filename=kaggle-1.5.8-py3-none-any.whl size=73275 sha256=09921de3efc373760678b6f1511d438e2ec7d10b0dd132ac642895daf861acf2\n",
            "  Stored in directory: /root/.cache/pip/wheels/de/f7/d8/c3902cacb7e62cb611b1ad343d7cc07f42f7eb76ae3a52f3d1\n",
            "Successfully built kaggle\n",
            "Installing collected packages: kaggle\n",
            "  Attempting uninstall: kaggle\n",
            "    Found existing installation: kaggle 1.5.12\n",
            "    Uninstalling kaggle-1.5.12:\n",
            "      Successfully uninstalled kaggle-1.5.12\n",
            "Successfully installed kaggle-1.5.8\n"
          ]
        }
      ],
      "source": [
        "# TODO: Use the same Kaggle code from HW1P2\n",
        "\n",
        "!pip install --upgrade --force-reinstall --no-deps kaggle==1.5.8\n",
        "!mkdir /root/.kaggle\n",
        "\n",
        "with open(\"/root/.kaggle/kaggle.json\", \"w+\") as f:\n",
        "    f.write('{\"username\":\"saisravanthijoshi\",\"key\":\"707302665aa4b889e4e1f231d01d6ce5\"}') \n",
        "    # Put your kaggle username & key here\n",
        "\n",
        "!chmod 600 /root/.kaggle/kaggle.json"
      ]
    },
    {
      "cell_type": "code",
      "execution_count": 10,
      "metadata": {
        "id": "oZMOvV-P8Gyy",
        "colab": {
          "base_uri": "https://localhost:8080/"
        },
        "outputId": "86421f28-4756-46e0-94ed-425b56302b78"
      },
      "outputs": [
        {
          "output_type": "stream",
          "name": "stdout",
          "text": [
            "Downloading 11-785-f22-hw2p2-classification.zip to /content\n",
            " 99% 2.35G/2.37G [00:11<00:00, 218MB/s]\n",
            "100% 2.37G/2.37G [00:12<00:00, 211MB/s]\n",
            "Downloading 11-785-f22-hw2p2-verification.zip to /content\n",
            " 54% 9.00M/16.8M [00:00<00:00, 73.3MB/s]\n",
            "100% 16.8M/16.8M [00:00<00:00, 95.5MB/s]\n",
            "unzip:  cannot find or open 11-785-f22-hw1p2.zip, 11-785-f22-hw1p2.zip.zip or 11-785-f22-hw1p2.zip.ZIP.\n",
            "mkdir: cannot create directory ‘/content/data’: File exists\n",
            "unzip:  cannot find or open 11-785-f22-hw1p2.zip, 11-785-f22-hw1p2.zip.zip or 11-785-f22-hw1p2.zip.ZIP.\n"
          ]
        }
      ],
      "source": [
        "# commands to download data from kaggle\n",
        "# !kaggle competitions download -c 11-785-f22-hw1p2\n",
        "!kaggle competitions download -c 11-785-f22-hw2p2-classification\n",
        "!kaggle competitions download -c 11-785-f22-hw2p2-verification\n",
        "!mkdir '/content/data'\n",
        "\n",
        "!unzip -qo '11-785-f22-hw1p2.zip' -d '/content/data'\n",
        "!mkdir '/content/data'\n",
        "\n",
        "!unzip -qo '11-785-f22-hw1p2.zip' -d '/content/data'"
      ]
    },
    {
      "cell_type": "code",
      "execution_count": 11,
      "metadata": {
        "id": "3oFjaJTaRjT7",
        "colab": {
          "base_uri": "https://localhost:8080/"
        },
        "outputId": "f482cfc3-da6f-463f-b514-74c0a9a8ad0e"
      },
      "outputs": [
        {
          "output_type": "stream",
          "name": "stdout",
          "text": [
            "mkdir: cannot create directory ‘/content/data’: File exists\n",
            "11-785-f22-hw2p2-classification.zip: Skipping, found more recently modified local copy (use --force to force download)\n",
            "11-785-f22-hw2p2-verification.zip: Skipping, found more recently modified local copy (use --force to force download)\n"
          ]
        }
      ],
      "source": [
        "!mkdir '/content/data'\n",
        "\n",
        "!kaggle competitions download -c 11-785-f22-hw2p2-classification\n",
        "!unzip -qo '11-785-f22-hw2p2-classification.zip' -d '/content/data'\n",
        "\n",
        "!kaggle competitions download -c 11-785-f22-hw2p2-verification\n",
        "!unzip -qo '11-785-f22-hw2p2-verification.zip' -d '/content/data'"
      ]
    },
    {
      "cell_type": "markdown",
      "metadata": {
        "id": "O68hT27SXClj"
      },
      "source": [
        "# Configs"
      ]
    },
    {
      "cell_type": "code",
      "execution_count": 12,
      "metadata": {
        "id": "S7qpMxG0XCJz"
      },
      "outputs": [],
      "source": [
        "config = {\n",
        "    'batch_size': 64, # Increase this if your GPU can handle it\n",
        "    'lr': 0.1,\n",
        "    'epochs': 50, # 10 epochs is recommended ONLY for the early submission - you will have to train for much longer typically.\n",
        "    # Include other parameters as needed.\n",
        "}"
      ]
    },
    {
      "cell_type": "markdown",
      "metadata": {
        "id": "sSeiKHYrM-6b"
      },
      "source": [
        "# Classification Dataset"
      ]
    },
    {
      "cell_type": "code",
      "execution_count": 13,
      "metadata": {
        "id": "tmRX5omaNDEZ"
      },
      "outputs": [],
      "source": [
        "DATA_DIR = '/content/data/11-785-f22-hw2p2-classification/'# TODO: Path where you have downloaded the data\n",
        "TRAIN_DIR = os.path.join(DATA_DIR, \"classification/train\") \n",
        "VAL_DIR = os.path.join(DATA_DIR, \"classification/dev\")\n",
        "TEST_DIR = os.path.join(DATA_DIR, \"classification/test\")\n",
        "\n",
        "# Transforms using torchvision - Refer https://pytorch.org/vision/stable/transforms.html\n",
        "\n",
        "train_transforms = torchvision.transforms.Compose([ \n",
        "    # Implementing the right transforms/augmentation methods is key to improving performance.\n",
        "    #hor flip, rand aug\n",
        "                    torchvision.transforms.RandomHorizontalFlip(0.5),\n",
        "                    torchvision.transforms.RandAugment(),\n",
        "                    torchvision.transforms.ColorJitter(brightness=0.1, contrast=0.1,saturation=0.1),\n",
        "                    torchvision.transforms.ToTensor() \n",
        "                    ])\n",
        "# Most torchvision transforms are done on PIL images. So you convert it into a tensor at the end with ToTensor()\n",
        "# But there are some transforms which are performed after ToTensor() : e.g - Normalization\n",
        "# Normalization Tip - Do not blindly use normalization that is not suitable for this dataset\n",
        "\n",
        "val_transforms = torchvision.transforms.Compose([torchvision.transforms.ToTensor()])\n",
        "\n",
        "\n",
        "train_dataset = torchvision.datasets.ImageFolder(TRAIN_DIR, transform = train_transforms)\n",
        "val_dataset = torchvision.datasets.ImageFolder(VAL_DIR, transform = val_transforms)\n",
        "# You should NOT have data augmentation on the validation set. Why?\n",
        "\n",
        "\n",
        "# Create data loaders\n",
        "train_loader = torch.utils.data.DataLoader(train_dataset, batch_size = config['batch_size'], \n",
        "                                           shuffle = True,num_workers = 4, pin_memory = True)\n",
        "val_loader = torch.utils.data.DataLoader(val_dataset, batch_size = config['batch_size'], \n",
        "                                         shuffle = False, num_workers = 2)"
      ]
    },
    {
      "cell_type": "code",
      "execution_count": 14,
      "metadata": {
        "id": "SqSR063BGE2e"
      },
      "outputs": [],
      "source": [
        "# You can do this with ImageFolder as well, but it requires some tweaking\n",
        "class ClassificationTestDataset(torch.utils.data.Dataset):\n",
        "\n",
        "    def __init__(self, data_dir, transforms):\n",
        "        self.data_dir   = data_dir\n",
        "        self.transforms = transforms\n",
        "\n",
        "        # This one-liner basically generates a sorted list of full paths to each image in the test directory\n",
        "        self.img_paths  = list(map(lambda fname: os.path.join(self.data_dir, fname), sorted(os.listdir(self.data_dir))))\n",
        "\n",
        "    def __len__(self):\n",
        "        return len(self.img_paths)\n",
        "    \n",
        "    def __getitem__(self, idx):\n",
        "        return self.transforms(Image.open(self.img_paths[idx]))"
      ]
    },
    {
      "cell_type": "code",
      "execution_count": 15,
      "metadata": {
        "id": "fVLB41KtGC2o"
      },
      "outputs": [],
      "source": [
        "test_dataset = ClassificationTestDataset(TEST_DIR, transforms = val_transforms) #Why are we using val_transforms for Test Data?\n",
        "test_loader = torch.utils.data.DataLoader(test_dataset, batch_size = config['batch_size'], shuffle = False,\n",
        "                         drop_last = False, num_workers = 2)"
      ]
    },
    {
      "cell_type": "code",
      "execution_count": 16,
      "metadata": {
        "id": "x4t8eU9gY0Jy",
        "colab": {
          "base_uri": "https://localhost:8080/"
        },
        "outputId": "c160d76c-366d-478f-e57d-84efcd7540e6"
      },
      "outputs": [
        {
          "output_type": "stream",
          "name": "stdout",
          "text": [
            "Number of classes:  7000\n",
            "No. of train images:  140000\n",
            "Shape of image:  torch.Size([3, 224, 224])\n",
            "Batch size:  64\n",
            "Train batches:  2188\n",
            "Val batches:  547\n"
          ]
        }
      ],
      "source": [
        "print(\"Number of classes: \", len(train_dataset.classes))\n",
        "print(\"No. of train images: \", train_dataset.__len__())\n",
        "print(\"Shape of image: \", train_dataset[0][0].shape)\n",
        "print(\"Batch size: \", config['batch_size'])\n",
        "print(\"Train batches: \", train_loader.__len__())\n",
        "print(\"Val batches: \", val_loader.__len__())"
      ]
    },
    {
      "cell_type": "markdown",
      "metadata": {
        "id": "mIqmojPaWD0H"
      },
      "source": [
        "# ResNet"
      ]
    },
    {
      "cell_type": "code",
      "source": [
        "# class ResBlock(torch.nn.Module):\n",
        "#     def __init__(self, in_channels, out_channels, downsample):\n",
        "#         super().__init__()\n",
        "#         if downsample:\n",
        "#             self.conv1 = torch.nn.Conv2d(in_channels, out_channels, kernel_size=3, stride=2, padding=1)\n",
        "#             self.shortcut = torch.nn.Sequential(\n",
        "#                 torch.nn.Conv2d(in_channels, out_channels, kernel_size=1, stride=2),\n",
        "#                 torch.nn.BatchNorm2d(out_channels)\n",
        "#             )\n",
        "#         else:\n",
        "#             self.conv1 = torch.nn.Conv2d(in_channels, out_channels, kernel_size=3, stride=1, padding=1)\n",
        "#             self.shortcut = torch.nn.Sequential()\n",
        "\n",
        "#         self.conv2 = torch.nn.Conv2d(out_channels, out_channels, kernel_size=3, stride=1, padding=1)\n",
        "#         self.bn1 = torch.nn.BatchNorm2d(out_channels)\n",
        "#         self.bn2 = torch.nn.BatchNorm2d(out_channels)\n",
        "\n",
        "#     def forward(self, input):\n",
        "#         shortcut = self.shortcut(input)\n",
        "#         input = torch.nn.ReLU()(self.bn1(self.conv1(input)))\n",
        "#         input = torch.nn.ReLU()(self.bn2(self.conv2(input)))\n",
        "#         input = input + shortcut\n",
        "#         return torch.nn.ReLU()(input)\n"
      ],
      "metadata": {
        "id": "fzBprhaAJ-wv"
      },
      "execution_count": 17,
      "outputs": []
    },
    {
      "cell_type": "code",
      "execution_count": 18,
      "metadata": {
        "id": "Ny-mh_ocWIJR"
      },
      "outputs": [],
      "source": [
        "# class Network(torch.nn.Module):\n",
        "#     \"\"\"\n",
        "#     The Very Low early deadline architecture is a 4-layer CNN.\n",
        "\n",
        "#     The first Conv layer has 64 channels, kernel size 7, and stride 4.\n",
        "#     The next three have 128, 256, and 512 channels. Each have kernel size 3 and stride 2.\n",
        "    \n",
        "#     Think about strided convolutions from the lecture, as convolutioin with stride= 1 and downsampling.\n",
        "#     For stride 1 convolution, what padding do you need for preserving the spatial resolution? \n",
        "#     (Hint => padding = kernel_size // 2) - Why?)\n",
        "\n",
        "#     Each Conv layer is accompanied by a Batchnorm and ReLU layer.\n",
        "#     Finally, you want to average pool over the spatial dimensions to reduce them to 1 x 1. Use AdaptiveAvgPool2d.\n",
        "#     Then, remove (Flatten?) these trivial 1x1 dimensions away.\n",
        "#     Look through https://pytorch.org/docs/stable/nn.html \n",
        "    \n",
        "#     TODO: Fill out the model definition below! \n",
        "\n",
        "#     Why does a very simple network have 4 convolutions?\n",
        "#     Input images are 224x224. Note that each of these convolutions downsample.\n",
        "#     Downsampling 2x effectively doubles the receptive field, increasing the spatial\n",
        "#     region each pixel extracts features from. Downsampling 32x is standard\n",
        "#     for most image models.\n",
        "\n",
        "#     Why does a very simple network have high channel sizes?\n",
        "#     Every time you downsample 2x, you do 4x less computation (at same channel size).\n",
        "#     To maintain the same level of computation, you 2x increase # of channels, which \n",
        "#     increases computation by 4x. So, balances out to same computation.\n",
        "#     Another intuition is - as you downsample, you lose spatial information. We want\n",
        "#     to preserve some of it in the channel dimension.\n",
        "#     \"\"\"\n",
        "\n",
        "#     def __init__(self, num_classes=7000):\n",
        "#         super().__init__()\n",
        "\n",
        "#         kernel_size_l1 = 7\n",
        "#         input_ch_l1 = 64\n",
        "#         output_ch_l2 = 128\n",
        "#         stride_l1 = 4\n",
        "\n",
        "#         kernel_size_l2 = 3\n",
        "#         output_ch_l3 = 256\n",
        "#         stride_l2 = 2\n",
        "\n",
        "#         kernel_size_l3 = 3\n",
        "#         output_ch_l4 = 512\n",
        "#         stride_l3 = 2\n",
        "        \n",
        "\n",
        "\n",
        "#         self.backbone = torch.nn.Sequential(\n",
        "#                 # TODO\n",
        "\n",
        "#                 torch.nn.Conv2d(3,64, stride=stride_l1,kernel_size=kernel_size_l1,padding=kernel_size_l1 // 2),\n",
        "#                 torch.nn.BatchNorm2d(input_ch_l1),          \n",
        "#                 torch.nn.ReLU(),\n",
        "\n",
        "#                 torch.nn.AdaptiveAvgPool2d((1,1)), \n",
        "#                 torch.nn.Flatten(),\n",
        "#         ) \n",
        "#         self.layer1 = torch.nn.Sequential(\n",
        "#             ResBlock(64, 64, downsample=False),\n",
        "#             ResBlock(64, 64, downsample=False),\n",
        "#             ResBlock(64, 464, downsample=False)\n",
        "#         )\n",
        "\n",
        "#         self.layer2 = torch.nn.Sequential(\n",
        "#             ResBlock(464,545, downsample=True),\n",
        "#             ResBlock(545,545, downsample=False),\n",
        "#             ResBlock(545,545, downsample=False),\n",
        "#             ResBlock(545,545, downsample=False)\n",
        "#         )\n",
        "\n",
        "#         self.layer3 = torch.nn.Sequential(\n",
        "#             ResBlock(545,1256, downsample=True),\n",
        "#             ResBlock(1256, 2256, downsample=False),\n",
        "#             ResBlock(2256, 2256, downsample=False),\n",
        "#             ResBlock(2256, 2256, downsample=False),\n",
        "#             ResBlock(4256, 2256, downsample=False),\n",
        "#             ResBlock(2256, 2256, downsample=False)\n",
        "#         )\n",
        "\n",
        "\n",
        "#         self.layer4 = torch.nn.Sequential(\n",
        "#             ResBlock(2256, 2512, downsample=True),\n",
        "#             ResBlock(2512, 2512, downsample=False),\n",
        "#             ResBlock(2512, 2512, downsample=False),\n",
        "#         )\n",
        "#         self.cls_layer = torch.nn.Linear(64,num_classes)\n",
        "#         # self.cls_layer = torch.nn.Softmax()\n",
        "#         #Is this classification layer?\n",
        "    \n",
        "#     def forward(self, x, return_feats=False):\n",
        "#         \"\"\"\n",
        "#         What is return_feats? It essentially returns the second-to-last-layer\n",
        "#         features of a given image. It's a \"feature encoding\" of the input image,\n",
        "#         and you can use it for the verification task. You would use the outputs\n",
        "#         of the final classification layer for the classification task.\n",
        "\n",
        "#         You might also find that the classification outputs are sometimes better\n",
        "#         for verification too - try both.\n",
        "#         \"\"\"\n",
        "#         # print(x.shape)\n",
        "#         feats = self.backbone(x)\n",
        "#         out = self.cls_layer(feats)\n",
        "\n",
        "#         if return_feats:\n",
        "#             return feats\n",
        "#         else:\n",
        "#             return out\n",
        "# print(Network())            \n",
        "# model = Network().to(device)\n",
        "\n",
        "# summary(model, (3, 224, 224))"
      ]
    },
    {
      "cell_type": "markdown",
      "source": [
        "# ConvNexT"
      ],
      "metadata": {
        "id": "wBk5oTPiIdOK"
      }
    },
    {
      "cell_type": "code",
      "source": [
        "class ConvNextBlock(torch.nn.Module):\n",
        "    r\"\"\" ConvNeXt Block. There are two equivalent implementations:\n",
        "    (1) DwConv -> LayerNorm (channels_first) -> 1x1 Conv -> GELU -> 1x1 Conv; all in (N, C, H, W)\n",
        "    (2) DwConv -> Permute to (N, H, W, C); LayerNorm (channels_last) -> Linear -> GELU -> Linear; Permute back\n",
        "    We use (2) as we find it slightly faster in PyTorch\n",
        "    \n",
        "    Args:\n",
        "        dim (int): Number of input channels.\n",
        "        drop_path (float): Stochastic depth rate. Default: 0.0\n",
        "        layer_scale_init_value (float): Init value for Layer Scale. Default: 1e-6.\n",
        "    \"\"\"\n",
        "    def __init__(self, dim):\n",
        "        super().__init__()\n",
        "       \n",
        "\n",
        "        self.block = nn.Sequential(\n",
        "            nn.Conv2d(dim, dim, kernel_size=7, padding=3, groups=dim),\n",
        "            nn.BatchNorm2d(dim, eps=1e-6),\n",
        "            nn.Conv2d(dim, 4* dim, kernel_size=1),\n",
        "            nn.GELU(),\n",
        "            nn.Conv2d(4*dim, dim, kernel_size=1)\n",
        "         \n",
        "r\n",
        "        )\n",
        "        \n",
        "    def forward(self, x):\n",
        "        return x+self.block(x)\n",
        "\n",
        "\n",
        "model = ConvNextBlock(3).to(device)\n",
        "\n",
        "summary(model, (3, 224, 224))\n"
      ],
      "metadata": {
        "id": "vyOJD1MPa018",
        "colab": {
          "base_uri": "https://localhost:8080/"
        },
        "outputId": "6006cbd0-f2e8-416a-b813-de8669b740fc"
      },
      "execution_count": 19,
      "outputs": [
        {
          "output_type": "stream",
          "name": "stdout",
          "text": [
            "----------------------------------------------------------------\n",
            "        Layer (type)               Output Shape         Param #\n",
            "================================================================\n",
            "            Conv2d-1          [-1, 3, 224, 224]             150\n",
            "       BatchNorm2d-2          [-1, 3, 224, 224]               6\n",
            "            Conv2d-3         [-1, 12, 224, 224]              48\n",
            "              GELU-4         [-1, 12, 224, 224]               0\n",
            "            Conv2d-5          [-1, 3, 224, 224]              39\n",
            "================================================================\n",
            "Total params: 243\n",
            "Trainable params: 243\n",
            "Non-trainable params: 0\n",
            "----------------------------------------------------------------\n",
            "Input size (MB): 0.57\n",
            "Forward/backward pass size (MB): 12.63\n",
            "Params size (MB): 0.00\n",
            "Estimated Total Size (MB): 13.21\n",
            "----------------------------------------------------------------\n"
          ]
        }
      ]
    },
    {
      "cell_type": "code",
      "source": [
        "class ConvNext(torch.nn.Module):\n",
        "\n",
        "  def __init__(self, in_channels, out_channels):\n",
        "\n",
        "    super().__init__()\n",
        "\n",
        "    self.stem = torch.nn.Sequential(\n",
        "        torch.nn.Conv2d(in_channels, 96, kernel_size = 4, stride = 4),\n",
        "        torch.nn.BatchNorm2d(96),\n",
        "       )\n",
        "    self.backbone = torch.nn.Sequential(\n",
        "        ConvNextBlock(96),\n",
        "        ConvNextBlock(96),\n",
        "        ConvNextBlock(96),\n",
        "        \n",
        "        torch.nn. BatchNorm2d (96) ,\n",
        "        torch.nn. Conv2d (96, 192, kernel_size= 2, stride= 2),\n",
        "\n",
        "        ConvNextBlock(192),\n",
        "        ConvNextBlock(192),\n",
        "        ConvNextBlock(192),\n",
        "\n",
        "        torch.nn.BatchNorm2d(192),\n",
        "        torch.nn.Conv2d (192, 384, kernel_size= 2, stride= 2),\n",
        "\n",
        "        ConvNextBlock(384),\n",
        "        ConvNextBlock(384),\n",
        "        ConvNextBlock(384),\n",
        "        ConvNextBlock(384),\n",
        "        ConvNextBlock(384),\n",
        "        ConvNextBlock(384),\n",
        "        ConvNextBlock(384),\n",
        "        ConvNextBlock(384),\n",
        "        ConvNextBlock(384),\n",
        "\n",
        "        torch.nn.BatchNorm2d (384),\n",
        "        torch.nn. Conv2d(384, 768, kernel_size= 2, stride= 2),\n",
        "\n",
        "        ConvNextBlock(768),\n",
        "        ConvNextBlock(768),\n",
        "        ConvNextBlock(768),\n",
        "        \n",
        "        torch.nn.AdaptiveAvgPool2d(1),\n",
        "        torch.nn.Flatten()\n",
        "\n",
        "        \n",
        "    )\n",
        "\n",
        "    self.cls_layer = torch.nn.Linear(768,7000)\n",
        "\n",
        "  def forward(self, x, return_feats = False):\n",
        "    out = self.stem(x)\n",
        "    out = self.backbone(out)\n",
        "\n",
        "    if return_feats:\n",
        "      return out\n",
        "\n",
        "    return self.cls_layer(out)\n",
        "\n",
        "\n",
        "          \n",
        "model = ConvNext(3,7000).to(device)\n",
        "\n",
        "summary(model, (3, 224, 224))"
      ],
      "metadata": {
        "id": "emIrOimhIbvd",
        "colab": {
          "base_uri": "https://localhost:8080/"
        },
        "outputId": "8de3aab4-1534-4168-9e1d-69d513d69540"
      },
      "execution_count": 20,
      "outputs": [
        {
          "output_type": "stream",
          "name": "stdout",
          "text": [
            "----------------------------------------------------------------\n",
            "        Layer (type)               Output Shape         Param #\n",
            "================================================================\n",
            "            Conv2d-1           [-1, 96, 56, 56]           4,704\n",
            "       BatchNorm2d-2           [-1, 96, 56, 56]             192\n",
            "            Conv2d-3           [-1, 96, 56, 56]           4,800\n",
            "       BatchNorm2d-4           [-1, 96, 56, 56]             192\n",
            "            Conv2d-5          [-1, 384, 56, 56]          37,248\n",
            "              GELU-6          [-1, 384, 56, 56]               0\n",
            "            Conv2d-7           [-1, 96, 56, 56]          36,960\n",
            "     ConvNextBlock-8           [-1, 96, 56, 56]               0\n",
            "            Conv2d-9           [-1, 96, 56, 56]           4,800\n",
            "      BatchNorm2d-10           [-1, 96, 56, 56]             192\n",
            "           Conv2d-11          [-1, 384, 56, 56]          37,248\n",
            "             GELU-12          [-1, 384, 56, 56]               0\n",
            "           Conv2d-13           [-1, 96, 56, 56]          36,960\n",
            "    ConvNextBlock-14           [-1, 96, 56, 56]               0\n",
            "           Conv2d-15           [-1, 96, 56, 56]           4,800\n",
            "      BatchNorm2d-16           [-1, 96, 56, 56]             192\n",
            "           Conv2d-17          [-1, 384, 56, 56]          37,248\n",
            "             GELU-18          [-1, 384, 56, 56]               0\n",
            "           Conv2d-19           [-1, 96, 56, 56]          36,960\n",
            "    ConvNextBlock-20           [-1, 96, 56, 56]               0\n",
            "      BatchNorm2d-21           [-1, 96, 56, 56]             192\n",
            "           Conv2d-22          [-1, 192, 28, 28]          73,920\n",
            "           Conv2d-23          [-1, 192, 28, 28]           9,600\n",
            "      BatchNorm2d-24          [-1, 192, 28, 28]             384\n",
            "           Conv2d-25          [-1, 768, 28, 28]         148,224\n",
            "             GELU-26          [-1, 768, 28, 28]               0\n",
            "           Conv2d-27          [-1, 192, 28, 28]         147,648\n",
            "    ConvNextBlock-28          [-1, 192, 28, 28]               0\n",
            "           Conv2d-29          [-1, 192, 28, 28]           9,600\n",
            "      BatchNorm2d-30          [-1, 192, 28, 28]             384\n",
            "           Conv2d-31          [-1, 768, 28, 28]         148,224\n",
            "             GELU-32          [-1, 768, 28, 28]               0\n",
            "           Conv2d-33          [-1, 192, 28, 28]         147,648\n",
            "    ConvNextBlock-34          [-1, 192, 28, 28]               0\n",
            "           Conv2d-35          [-1, 192, 28, 28]           9,600\n",
            "      BatchNorm2d-36          [-1, 192, 28, 28]             384\n",
            "           Conv2d-37          [-1, 768, 28, 28]         148,224\n",
            "             GELU-38          [-1, 768, 28, 28]               0\n",
            "           Conv2d-39          [-1, 192, 28, 28]         147,648\n",
            "    ConvNextBlock-40          [-1, 192, 28, 28]               0\n",
            "      BatchNorm2d-41          [-1, 192, 28, 28]             384\n",
            "           Conv2d-42          [-1, 384, 14, 14]         295,296\n",
            "           Conv2d-43          [-1, 384, 14, 14]          19,200\n",
            "      BatchNorm2d-44          [-1, 384, 14, 14]             768\n",
            "           Conv2d-45         [-1, 1536, 14, 14]         591,360\n",
            "             GELU-46         [-1, 1536, 14, 14]               0\n",
            "           Conv2d-47          [-1, 384, 14, 14]         590,208\n",
            "    ConvNextBlock-48          [-1, 384, 14, 14]               0\n",
            "           Conv2d-49          [-1, 384, 14, 14]          19,200\n",
            "      BatchNorm2d-50          [-1, 384, 14, 14]             768\n",
            "           Conv2d-51         [-1, 1536, 14, 14]         591,360\n",
            "             GELU-52         [-1, 1536, 14, 14]               0\n",
            "           Conv2d-53          [-1, 384, 14, 14]         590,208\n",
            "    ConvNextBlock-54          [-1, 384, 14, 14]               0\n",
            "           Conv2d-55          [-1, 384, 14, 14]          19,200\n",
            "      BatchNorm2d-56          [-1, 384, 14, 14]             768\n",
            "           Conv2d-57         [-1, 1536, 14, 14]         591,360\n",
            "             GELU-58         [-1, 1536, 14, 14]               0\n",
            "           Conv2d-59          [-1, 384, 14, 14]         590,208\n",
            "    ConvNextBlock-60          [-1, 384, 14, 14]               0\n",
            "           Conv2d-61          [-1, 384, 14, 14]          19,200\n",
            "      BatchNorm2d-62          [-1, 384, 14, 14]             768\n",
            "           Conv2d-63         [-1, 1536, 14, 14]         591,360\n",
            "             GELU-64         [-1, 1536, 14, 14]               0\n",
            "           Conv2d-65          [-1, 384, 14, 14]         590,208\n",
            "    ConvNextBlock-66          [-1, 384, 14, 14]               0\n",
            "           Conv2d-67          [-1, 384, 14, 14]          19,200\n",
            "      BatchNorm2d-68          [-1, 384, 14, 14]             768\n",
            "           Conv2d-69         [-1, 1536, 14, 14]         591,360\n",
            "             GELU-70         [-1, 1536, 14, 14]               0\n",
            "           Conv2d-71          [-1, 384, 14, 14]         590,208\n",
            "    ConvNextBlock-72          [-1, 384, 14, 14]               0\n",
            "           Conv2d-73          [-1, 384, 14, 14]          19,200\n",
            "      BatchNorm2d-74          [-1, 384, 14, 14]             768\n",
            "           Conv2d-75         [-1, 1536, 14, 14]         591,360\n",
            "             GELU-76         [-1, 1536, 14, 14]               0\n",
            "           Conv2d-77          [-1, 384, 14, 14]         590,208\n",
            "    ConvNextBlock-78          [-1, 384, 14, 14]               0\n",
            "           Conv2d-79          [-1, 384, 14, 14]          19,200\n",
            "      BatchNorm2d-80          [-1, 384, 14, 14]             768\n",
            "           Conv2d-81         [-1, 1536, 14, 14]         591,360\n",
            "             GELU-82         [-1, 1536, 14, 14]               0\n",
            "           Conv2d-83          [-1, 384, 14, 14]         590,208\n",
            "    ConvNextBlock-84          [-1, 384, 14, 14]               0\n",
            "           Conv2d-85          [-1, 384, 14, 14]          19,200\n",
            "      BatchNorm2d-86          [-1, 384, 14, 14]             768\n",
            "           Conv2d-87         [-1, 1536, 14, 14]         591,360\n",
            "             GELU-88         [-1, 1536, 14, 14]               0\n",
            "           Conv2d-89          [-1, 384, 14, 14]         590,208\n",
            "    ConvNextBlock-90          [-1, 384, 14, 14]               0\n",
            "           Conv2d-91          [-1, 384, 14, 14]          19,200\n",
            "      BatchNorm2d-92          [-1, 384, 14, 14]             768\n",
            "           Conv2d-93         [-1, 1536, 14, 14]         591,360\n",
            "             GELU-94         [-1, 1536, 14, 14]               0\n",
            "           Conv2d-95          [-1, 384, 14, 14]         590,208\n",
            "    ConvNextBlock-96          [-1, 384, 14, 14]               0\n",
            "      BatchNorm2d-97          [-1, 384, 14, 14]             768\n",
            "           Conv2d-98            [-1, 768, 7, 7]       1,180,416\n",
            "           Conv2d-99            [-1, 768, 7, 7]          38,400\n",
            "     BatchNorm2d-100            [-1, 768, 7, 7]           1,536\n",
            "          Conv2d-101           [-1, 3072, 7, 7]       2,362,368\n",
            "            GELU-102           [-1, 3072, 7, 7]               0\n",
            "          Conv2d-103            [-1, 768, 7, 7]       2,360,064\n",
            "   ConvNextBlock-104            [-1, 768, 7, 7]               0\n",
            "          Conv2d-105            [-1, 768, 7, 7]          38,400\n",
            "     BatchNorm2d-106            [-1, 768, 7, 7]           1,536\n",
            "          Conv2d-107           [-1, 3072, 7, 7]       2,362,368\n",
            "            GELU-108           [-1, 3072, 7, 7]               0\n",
            "          Conv2d-109            [-1, 768, 7, 7]       2,360,064\n",
            "   ConvNextBlock-110            [-1, 768, 7, 7]               0\n",
            "          Conv2d-111            [-1, 768, 7, 7]          38,400\n",
            "     BatchNorm2d-112            [-1, 768, 7, 7]           1,536\n",
            "          Conv2d-113           [-1, 3072, 7, 7]       2,362,368\n",
            "            GELU-114           [-1, 3072, 7, 7]               0\n",
            "          Conv2d-115            [-1, 768, 7, 7]       2,360,064\n",
            "   ConvNextBlock-116            [-1, 768, 7, 7]               0\n",
            "AdaptiveAvgPool2d-117            [-1, 768, 1, 1]               0\n",
            "         Flatten-118                  [-1, 768]               0\n",
            "          Linear-119                 [-1, 7000]       5,383,000\n",
            "================================================================\n",
            "Total params: 33,194,968\n",
            "Trainable params: 33,194,968\n",
            "Non-trainable params: 0\n",
            "----------------------------------------------------------------\n",
            "Input size (MB): 0.57\n",
            "Forward/backward pass size (MB): 207.07\n",
            "Params size (MB): 126.63\n",
            "Estimated Total Size (MB): 334.27\n",
            "----------------------------------------------------------------\n"
          ]
        }
      ]
    },
    {
      "cell_type": "markdown",
      "metadata": {
        "id": "KZCn0qHuZRKj"
      },
      "source": [
        "# Setup everything for training"
      ]
    },
    {
      "cell_type": "code",
      "execution_count": 21,
      "metadata": {
        "id": "UowI9OcUYPjP"
      },
      "outputs": [],
      "source": [
        "# TODO: What loss do you need for a multi class classification problem?\n",
        "criterion =torch.nn.CrossEntropyLoss() # label smoothing\n",
        "optimizer = torch.optim.SGD(model.parameters(), lr=config['lr'], momentum=0.9, weight_decay=1e-4)\n",
        "\n",
        "# TODO: Implement a scheduler (Optional but Highly Recommended)\n",
        "scheduler = torch.optim.lr_scheduler.ReduceLROnPlateau(optimizer, mode='max', factor=0.1, patience=4, threshold=0.001, threshold_mode='rel', cooldown=0, min_lr=1e-5, eps=1e-08, verbose=True)\n",
        "# should read more than 60 with 0.1 learning rate\n",
        "\n",
        "# You can try ReduceLRonPlateau, StepLR, MultistepLR, CosineAnnealing, etc.\n",
        "scaler = torch.cuda.amp.GradScaler() # Good news. We have FP16 (Mixed precision training) implemented for you\n",
        "# It is useful only in the case of compatible GPUs such as T4/V100"
      ]
    },
    {
      "cell_type": "code",
      "source": [
        "# #Load model\n",
        "# best_model = torh.load(saved_model)"
      ],
      "metadata": {
        "id": "yM77zi74U3aY"
      },
      "execution_count": 22,
      "outputs": []
    },
    {
      "cell_type": "markdown",
      "metadata": {
        "id": "dzM11HtcboYv"
      },
      "source": [
        "# Let's train!"
      ]
    },
    {
      "cell_type": "code",
      "execution_count": 23,
      "metadata": {
        "id": "bgSw6iJJavBZ"
      },
      "outputs": [],
      "source": [
        "def train(model, dataloader, optimizer, criterion):\n",
        "    \n",
        "    model.train()\n",
        "\n",
        "    # Progress Bar \n",
        "    batch_bar = tqdm(total=len(dataloader), dynamic_ncols=True, leave=False, position=0, desc='Train', ncols=5) \n",
        "    \n",
        "    num_correct = 0\n",
        "    total_loss = 0\n",
        "\n",
        "    for i, (images, labels) in enumerate(dataloader):\n",
        "        \n",
        "        optimizer.zero_grad() # Zero gradients\n",
        "\n",
        "        images, labels = images.to(device), labels.to(device)\n",
        "        \n",
        "        with torch.cuda.amp.autocast(): # This implements mixed precision. Thats it! \n",
        "            outputs = model(images)\n",
        "            loss = criterion(outputs, labels)\n",
        "\n",
        "        # Update no. of correct predictions & loss as we iterate\n",
        "        num_correct += int((torch.argmax(outputs, axis=1) == labels).sum())\n",
        "        total_loss += float(loss.item())\n",
        "\n",
        "        # tqdm lets you add some details so you can monitor training as you train.\n",
        "        batch_bar.set_postfix(\n",
        "            acc=\"{:.04f}%\".format(100 * num_correct / (config['batch_size']*(i + 1))),\n",
        "            loss=\"{:.04f}\".format(float(total_loss / (i + 1))),\n",
        "            num_correct=num_correct,\n",
        "            lr=\"{:.04f}\".format(float(optimizer.param_groups[0]['lr'])))\n",
        "        \n",
        "        scaler.scale(loss).backward() # This is a replacement for loss.backward()\n",
        "        scaler.step(optimizer) # This is a replacement for optimizer.step()\n",
        "        scaler.update() \n",
        "        \n",
        "        # TODO? Depending on your choice of scheduler,\n",
        "        # You may want to call some schdulers inside the train function. What are these?\n",
        "      \n",
        "      \n",
        "        batch_bar.update() # Update tqdm bar\n",
        "    \n",
        "\n",
        "    batch_bar.close() # You need this to close the tqdm bar\n",
        "\n",
        "    acc = 100 * num_correct / (config['batch_size']* len(dataloader))\n",
        "    total_loss = float(total_loss / len(dataloader))\n",
        "    \n",
        "    return acc, total_loss"
      ]
    },
    {
      "cell_type": "code",
      "execution_count": 24,
      "metadata": {
        "id": "m5V2UdnpdEoK"
      },
      "outputs": [],
      "source": [
        "def validate(model, dataloader, criterion):\n",
        "  \n",
        "    model.eval()\n",
        "    batch_bar = tqdm(total=len(dataloader), dynamic_ncols=True, position=0, leave=False, desc='Val', ncols=5)\n",
        "\n",
        "    num_correct = 0.0\n",
        "    total_loss = 0.0\n",
        "\n",
        "    for i, (images, labels) in enumerate(dataloader):\n",
        "        \n",
        "        # Move images to device\n",
        "        images, labels = images.to(device), labels.to(device)\n",
        "        \n",
        "        # Get model outputs\n",
        "        with torch.inference_mode():\n",
        "            outputs = model(images)\n",
        "            loss = criterion(outputs, labels)\n",
        "\n",
        "        num_correct += int((torch.argmax(outputs, axis=1) == labels).sum())\n",
        "        total_loss += float(loss.item())\n",
        "\n",
        "        batch_bar.set_postfix(\n",
        "            acc=\"{:.04f}%\".format(100 * num_correct / (config['batch_size']*(i + 1))),\n",
        "            loss=\"{:.04f}\".format(float(total_loss / (i + 1))),\n",
        "            num_correct=num_correct)\n",
        "\n",
        "        batch_bar.update()\n",
        "\n",
        "    batch_bar.close()\n",
        "    acc = 100 * num_correct / (config['batch_size']* len(dataloader))\n",
        "    total_loss = float(total_loss / len(dataloader))\n",
        "    return acc, total_loss"
      ]
    },
    {
      "cell_type": "code",
      "execution_count": 25,
      "metadata": {
        "id": "cmotca6pcLLY"
      },
      "outputs": [],
      "source": [
        "gc.collect() # These commands help you when you face CUDA OOM error\n",
        "torch.cuda.empty_cache()"
      ]
    },
    {
      "cell_type": "markdown",
      "metadata": {
        "id": "2mBgKGkXLrdJ"
      },
      "source": [
        "# Wandb"
      ]
    },
    {
      "cell_type": "code",
      "execution_count": 26,
      "metadata": {
        "id": "Ix62_BkaLr_D",
        "colab": {
          "base_uri": "https://localhost:8080/"
        },
        "outputId": "0c955e78-3a1f-4a2f-b9e3-288e6a731216"
      },
      "outputs": [
        {
          "output_type": "stream",
          "name": "stderr",
          "text": [
            "ERROR:wandb.jupyter:Failed to detect the name of this notebook, you can set it manually with the WANDB_NOTEBOOK_NAME environment variable to enable code saving.\n",
            "\u001b[34m\u001b[1mwandb\u001b[0m: W&B API key is configured. Use \u001b[1m`wandb login --relogin`\u001b[0m to force relogin\n",
            "\u001b[34m\u001b[1mwandb\u001b[0m: \u001b[33mWARNING\u001b[0m If you're specifying your api key in code, ensure this code is not shared publicly.\n",
            "\u001b[34m\u001b[1mwandb\u001b[0m: \u001b[33mWARNING\u001b[0m Consider setting the WANDB_API_KEY environment variable, or running `wandb login` from the command line.\n",
            "\u001b[34m\u001b[1mwandb\u001b[0m: Appending key for api.wandb.ai to your netrc file: /root/.netrc\n"
          ]
        },
        {
          "output_type": "execute_result",
          "data": {
            "text/plain": [
              "True"
            ]
          },
          "metadata": {},
          "execution_count": 26
        }
      ],
      "source": [
        "wandb.login(key=\"10b3693ed9ef75468a46ff13fb32dc459cc8a099\") #API Key is in your wandb account, under settings (wandb.ai/settings)"
      ]
    },
    {
      "cell_type": "code",
      "execution_count": 27,
      "metadata": {
        "id": "VG0vmsmbRYEi",
        "colab": {
          "base_uri": "https://localhost:8080/",
          "height": 86
        },
        "outputId": "391d6bc2-fe27-4789-a834-f6df1bac6c9d"
      },
      "outputs": [
        {
          "output_type": "stream",
          "name": "stderr",
          "text": [
            "\u001b[34m\u001b[1mwandb\u001b[0m: Currently logged in as: \u001b[33msaisravjo\u001b[0m (\u001b[33mstack-it\u001b[0m). Use \u001b[1m`wandb login --relogin`\u001b[0m to force relogin\n"
          ]
        },
        {
          "output_type": "display_data",
          "data": {
            "text/plain": [
              "<IPython.core.display.HTML object>"
            ],
            "text/html": [
              "Tracking run with wandb version 0.13.4"
            ]
          },
          "metadata": {}
        },
        {
          "output_type": "display_data",
          "data": {
            "text/plain": [
              "<IPython.core.display.HTML object>"
            ],
            "text/html": [
              "Run data is saved locally in <code>/content/wandb/run-20221020_030231-1irgi2zk</code>"
            ]
          },
          "metadata": {}
        },
        {
          "output_type": "display_data",
          "data": {
            "text/plain": [
              "<IPython.core.display.HTML object>"
            ],
            "text/html": [
              "Syncing run <strong><a href=\"https://wandb.ai/stack-it/hw2p2-ablations/runs/1irgi2zk\" target=\"_blank\">ConvNext-trasform</a></strong> to <a href=\"https://wandb.ai/stack-it/hw2p2-ablations\" target=\"_blank\">Weights & Biases</a> (<a href=\"https://wandb.me/run\" target=\"_blank\">docs</a>)<br/>"
            ]
          },
          "metadata": {}
        }
      ],
      "source": [
        "# Create your wandb run\n",
        "run = wandb.init(\n",
        "    name = \"ConvNext-trasform\", ## Wandb creates random run names if you skip this field\n",
        "    reinit = True, ### Allows reinitalizing runs when you re-run this cell\n",
        "    # run_id = ### Insert specific run id here if you want to resume a previous run\n",
        "    # resume = \"must\" ### You need this to resume previous runs, but comment out reinit = True when using this\n",
        "    project = \"hw2p2-ablations\", ### Project should be created in your wandb account \n",
        "    config = config ### Wandb Config for your run\n",
        ")"
      ]
    },
    {
      "cell_type": "markdown",
      "metadata": {
        "id": "SQkRw1FvLqYe"
      },
      "source": [
        "# Experiments"
      ]
    },
    {
      "cell_type": "code",
      "execution_count": 28,
      "metadata": {
        "id": "EqWO8Edb0BK2",
        "colab": {
          "base_uri": "https://localhost:8080/",
          "height": 1000,
          "referenced_widgets": [
            "6b80f13eaacf469984c56414ffa9d7f0",
            "1b9e41760ea2401280def85b3f07f9f0",
            "ea354c399cbe432489b0f9c9bc13eeeb",
            "d72266ba767244bc978d3a97c8e661b1",
            "178e72a33c1e4d67a9dce8061f1b2e89",
            "e85e4a9cdc3640bc8d1b6bb93063bb98",
            "14a9182e49be484295ea08d4dc136ef1",
            "d18433e480124be2b23e5612e7817ed3"
          ]
        },
        "outputId": "08db8df9-c35f-4f39-8ef0-cc86f31bfc3e"
      },
      "outputs": [
        {
          "output_type": "stream",
          "name": "stderr",
          "text": []
        },
        {
          "output_type": "stream",
          "name": "stdout",
          "text": [
            "\n",
            "Epoch 1/50: \n",
            "Train Acc 0.1393%\t Train Loss 8.5015\t Learning Rate 0.1000\n"
          ]
        },
        {
          "output_type": "stream",
          "name": "stderr",
          "text": []
        },
        {
          "output_type": "stream",
          "name": "stdout",
          "text": [
            "Val Acc 0.6141%\t Val Loss 7.8036\n",
            "Saving model\n"
          ]
        },
        {
          "output_type": "stream",
          "name": "stderr",
          "text": []
        },
        {
          "output_type": "stream",
          "name": "stdout",
          "text": [
            "\n",
            "Epoch 2/50: \n",
            "Train Acc 2.1502%\t Train Loss 7.0983\t Learning Rate 0.1000\n"
          ]
        },
        {
          "output_type": "stream",
          "name": "stderr",
          "text": []
        },
        {
          "output_type": "stream",
          "name": "stdout",
          "text": [
            "Val Acc 5.3931%\t Val Loss 6.2536\n",
            "Saving model\n"
          ]
        },
        {
          "output_type": "stream",
          "name": "stderr",
          "text": []
        },
        {
          "output_type": "stream",
          "name": "stdout",
          "text": [
            "\n",
            "Epoch 3/50: \n",
            "Train Acc 10.3041%\t Train Loss 5.5878\t Learning Rate 0.1000\n"
          ]
        },
        {
          "output_type": "stream",
          "name": "stderr",
          "text": []
        },
        {
          "output_type": "stream",
          "name": "stdout",
          "text": [
            "Val Acc 15.8164%\t Val Loss 5.0768\n",
            "Saving model\n"
          ]
        },
        {
          "output_type": "stream",
          "name": "stderr",
          "text": []
        },
        {
          "output_type": "stream",
          "name": "stdout",
          "text": [
            "\n",
            "Epoch 4/50: \n",
            "Train Acc 24.2223%\t Train Loss 4.3215\t Learning Rate 0.1000\n"
          ]
        },
        {
          "output_type": "stream",
          "name": "stderr",
          "text": []
        },
        {
          "output_type": "stream",
          "name": "stdout",
          "text": [
            "Val Acc 29.8789%\t Val Loss 4.0118\n",
            "Saving model\n"
          ]
        },
        {
          "output_type": "stream",
          "name": "stderr",
          "text": []
        },
        {
          "output_type": "stream",
          "name": "stdout",
          "text": [
            "\n",
            "Epoch 5/50: \n",
            "Train Acc 38.0185%\t Train Loss 3.3882\t Learning Rate 0.1000\n"
          ]
        },
        {
          "output_type": "stream",
          "name": "stderr",
          "text": []
        },
        {
          "output_type": "stream",
          "name": "stdout",
          "text": [
            "Val Acc 42.1104%\t Val Loss 3.2800\n",
            "Saving model\n"
          ]
        },
        {
          "output_type": "stream",
          "name": "stderr",
          "text": []
        },
        {
          "output_type": "stream",
          "name": "stdout",
          "text": [
            "\n",
            "Epoch 6/50: \n",
            "Train Acc 48.6874%\t Train Loss 2.7207\t Learning Rate 0.1000\n"
          ]
        },
        {
          "output_type": "stream",
          "name": "stderr",
          "text": []
        },
        {
          "output_type": "stream",
          "name": "stdout",
          "text": [
            "Val Acc 45.3582%\t Val Loss 3.0996\n",
            "Saving model\n"
          ]
        },
        {
          "output_type": "stream",
          "name": "stderr",
          "text": []
        },
        {
          "output_type": "stream",
          "name": "stdout",
          "text": [
            "\n",
            "Epoch 7/50: \n",
            "Train Acc 56.1200%\t Train Loss 2.2844\t Learning Rate 0.1000\n"
          ]
        },
        {
          "output_type": "stream",
          "name": "stderr",
          "text": []
        },
        {
          "output_type": "stream",
          "name": "stdout",
          "text": [
            "Val Acc 54.5275%\t Val Loss 2.5259\n",
            "Saving model\n"
          ]
        },
        {
          "output_type": "stream",
          "name": "stderr",
          "text": []
        },
        {
          "output_type": "stream",
          "name": "stdout",
          "text": [
            "\n",
            "Epoch 8/50: \n",
            "Train Acc 61.1610%\t Train Loss 1.9891\t Learning Rate 0.1000\n"
          ]
        },
        {
          "output_type": "stream",
          "name": "stderr",
          "text": []
        },
        {
          "output_type": "stream",
          "name": "stdout",
          "text": [
            "Val Acc 56.4699%\t Val Loss 2.4172\n",
            "Saving model\n"
          ]
        },
        {
          "output_type": "stream",
          "name": "stderr",
          "text": []
        },
        {
          "output_type": "stream",
          "name": "stdout",
          "text": [
            "\n",
            "Epoch 9/50: \n",
            "Train Acc 64.7588%\t Train Loss 1.7725\t Learning Rate 0.1000\n"
          ]
        },
        {
          "output_type": "stream",
          "name": "stderr",
          "text": []
        },
        {
          "output_type": "stream",
          "name": "stdout",
          "text": [
            "Val Acc 58.2610%\t Val Loss 2.3518\n",
            "Saving model\n"
          ]
        },
        {
          "output_type": "stream",
          "name": "stderr",
          "text": []
        },
        {
          "output_type": "stream",
          "name": "stdout",
          "text": [
            "\n",
            "Epoch 10/50: \n",
            "Train Acc 67.8709%\t Train Loss 1.5963\t Learning Rate 0.1000\n"
          ]
        },
        {
          "output_type": "stream",
          "name": "stderr",
          "text": []
        },
        {
          "output_type": "stream",
          "name": "stdout",
          "text": [
            "Val Acc 62.3286%\t Val Loss 2.1342\n",
            "Saving model\n"
          ]
        },
        {
          "output_type": "stream",
          "name": "stderr",
          "text": []
        },
        {
          "output_type": "stream",
          "name": "stdout",
          "text": [
            "\n",
            "Epoch 11/50: \n",
            "Train Acc 70.0240%\t Train Loss 1.4659\t Learning Rate 0.1000\n"
          ]
        },
        {
          "output_type": "stream",
          "name": "stderr",
          "text": []
        },
        {
          "output_type": "stream",
          "name": "stdout",
          "text": [
            "Val Acc 63.0684%\t Val Loss 2.1176\n",
            "Saving model\n"
          ]
        },
        {
          "output_type": "stream",
          "name": "stderr",
          "text": []
        },
        {
          "output_type": "stream",
          "name": "stdout",
          "text": [
            "\n",
            "Epoch 12/50: \n",
            "Train Acc 71.5679%\t Train Loss 1.3645\t Learning Rate 0.1000\n"
          ]
        },
        {
          "output_type": "stream",
          "name": "stderr",
          "text": []
        },
        {
          "output_type": "stream",
          "name": "stdout",
          "text": [
            "Val Acc 60.2691%\t Val Loss 2.2324\n"
          ]
        },
        {
          "output_type": "stream",
          "name": "stderr",
          "text": []
        },
        {
          "output_type": "stream",
          "name": "stdout",
          "text": [
            "\n",
            "Epoch 13/50: \n",
            "Train Acc 73.3497%\t Train Loss 1.2739\t Learning Rate 0.1000\n"
          ]
        },
        {
          "output_type": "stream",
          "name": "stderr",
          "text": []
        },
        {
          "output_type": "stream",
          "name": "stdout",
          "text": [
            "Val Acc 61.5488%\t Val Loss 2.1854\n"
          ]
        },
        {
          "output_type": "stream",
          "name": "stderr",
          "text": []
        },
        {
          "output_type": "stream",
          "name": "stdout",
          "text": [
            "\n",
            "Epoch 14/50: \n",
            "Train Acc 74.4687%\t Train Loss 1.2021\t Learning Rate 0.1000\n"
          ]
        },
        {
          "output_type": "stream",
          "name": "stderr",
          "text": []
        },
        {
          "output_type": "stream",
          "name": "stdout",
          "text": [
            "Val Acc 64.0054%\t Val Loss 2.0541\n",
            "Saving model\n"
          ]
        },
        {
          "output_type": "stream",
          "name": "stderr",
          "text": []
        },
        {
          "output_type": "stream",
          "name": "stdout",
          "text": [
            "\n",
            "Epoch 15/50: \n",
            "Train Acc 75.5777%\t Train Loss 1.1331\t Learning Rate 0.1000\n"
          ]
        },
        {
          "output_type": "stream",
          "name": "stderr",
          "text": []
        },
        {
          "output_type": "stream",
          "name": "stdout",
          "text": [
            "Val Acc 64.1853%\t Val Loss 2.0683\n",
            "Saving model\n"
          ]
        },
        {
          "output_type": "stream",
          "name": "stderr",
          "text": []
        },
        {
          "output_type": "stream",
          "name": "stdout",
          "text": [
            "\n",
            "Epoch 16/50: \n",
            "Train Acc 76.0162%\t Train Loss 1.1001\t Learning Rate 0.1000\n"
          ]
        },
        {
          "output_type": "stream",
          "name": "stderr",
          "text": []
        },
        {
          "output_type": "stream",
          "name": "stdout",
          "text": [
            "Val Acc 65.1480%\t Val Loss 2.0418\n",
            "Saving model\n"
          ]
        },
        {
          "output_type": "stream",
          "name": "stderr",
          "text": []
        },
        {
          "output_type": "stream",
          "name": "stdout",
          "text": [
            "\n",
            "Epoch 17/50: \n",
            "Train Acc 77.3823%\t Train Loss 1.0288\t Learning Rate 0.1000\n"
          ]
        },
        {
          "output_type": "stream",
          "name": "stderr",
          "text": []
        },
        {
          "output_type": "stream",
          "name": "stdout",
          "text": [
            "Val Acc 65.8621%\t Val Loss 2.0141\n",
            "Saving model\n"
          ]
        },
        {
          "output_type": "stream",
          "name": "stderr",
          "text": []
        },
        {
          "output_type": "stream",
          "name": "stdout",
          "text": [
            "\n",
            "Epoch 18/50: \n",
            "Train Acc 77.9400%\t Train Loss 0.9876\t Learning Rate 0.1000\n"
          ]
        },
        {
          "output_type": "stream",
          "name": "stderr",
          "text": []
        },
        {
          "output_type": "stream",
          "name": "stdout",
          "text": [
            "Val Acc 65.5936%\t Val Loss 2.0386\n"
          ]
        },
        {
          "output_type": "stream",
          "name": "stderr",
          "text": []
        },
        {
          "output_type": "stream",
          "name": "stdout",
          "text": [
            "\n",
            "Epoch 19/50: \n",
            "Train Acc 78.7677%\t Train Loss 0.9459\t Learning Rate 0.1000\n"
          ]
        },
        {
          "output_type": "stream",
          "name": "stderr",
          "text": []
        },
        {
          "output_type": "stream",
          "name": "stdout",
          "text": [
            "Val Acc 67.6674%\t Val Loss 1.9181\n",
            "Saving model\n"
          ]
        },
        {
          "output_type": "stream",
          "name": "stderr",
          "text": []
        },
        {
          "output_type": "stream",
          "name": "stdout",
          "text": [
            "\n",
            "Epoch 20/50: \n",
            "Train Acc 79.4033%\t Train Loss 0.9091\t Learning Rate 0.1000\n"
          ]
        },
        {
          "output_type": "stream",
          "name": "stderr",
          "text": []
        },
        {
          "output_type": "stream",
          "name": "stdout",
          "text": [
            "Val Acc 66.2734%\t Val Loss 1.9921\n"
          ]
        },
        {
          "output_type": "stream",
          "name": "stderr",
          "text": []
        },
        {
          "output_type": "stream",
          "name": "stdout",
          "text": [
            "\n",
            "Epoch 21/50: \n",
            "Train Acc 79.8646%\t Train Loss 0.8805\t Learning Rate 0.1000\n"
          ]
        },
        {
          "output_type": "stream",
          "name": "stderr",
          "text": []
        },
        {
          "output_type": "stream",
          "name": "stdout",
          "text": [
            "Val Acc 62.3600%\t Val Loss 2.2133\n"
          ]
        },
        {
          "output_type": "stream",
          "name": "stderr",
          "text": []
        },
        {
          "output_type": "stream",
          "name": "stdout",
          "text": [
            "\n",
            "Epoch 22/50: \n",
            "Train Acc 80.3845%\t Train Loss 0.8524\t Learning Rate 0.1000\n"
          ]
        },
        {
          "output_type": "stream",
          "name": "stderr",
          "text": []
        },
        {
          "output_type": "stream",
          "name": "stdout",
          "text": [
            "Val Acc 64.9737%\t Val Loss 2.0985\n"
          ]
        },
        {
          "output_type": "stream",
          "name": "stderr",
          "text": []
        },
        {
          "output_type": "stream",
          "name": "stdout",
          "text": [
            "\n",
            "Epoch 23/50: \n",
            "Train Acc 80.9244%\t Train Loss 0.8250\t Learning Rate 0.1000\n"
          ]
        },
        {
          "output_type": "stream",
          "name": "stderr",
          "text": []
        },
        {
          "output_type": "stream",
          "name": "stdout",
          "text": [
            "Val Acc 67.3932%\t Val Loss 1.9775\n"
          ]
        },
        {
          "output_type": "stream",
          "name": "stderr",
          "text": []
        },
        {
          "output_type": "stream",
          "name": "stdout",
          "text": [
            "\n",
            "Epoch 24/50: \n",
            "Train Acc 81.1564%\t Train Loss 0.8112\t Learning Rate 0.1000\n"
          ]
        },
        {
          "output_type": "stream",
          "name": "stderr",
          "text": []
        },
        {
          "output_type": "stream",
          "name": "stdout",
          "text": [
            "Epoch 00024: reducing learning rate of group 0 to 1.0000e-02.\n",
            "Val Acc 64.2767%\t Val Loss 2.1963\n"
          ]
        },
        {
          "output_type": "stream",
          "name": "stderr",
          "text": []
        },
        {
          "output_type": "stream",
          "name": "stdout",
          "text": [
            "\n",
            "Epoch 25/50: \n",
            "Train Acc 95.4725%\t Train Loss 0.1906\t Learning Rate 0.0100\n"
          ]
        },
        {
          "output_type": "stream",
          "name": "stderr",
          "text": []
        },
        {
          "output_type": "stream",
          "name": "stdout",
          "text": [
            "Val Acc 81.1415%\t Val Loss 1.3097\n",
            "Saving model\n"
          ]
        },
        {
          "output_type": "stream",
          "name": "stderr",
          "text": []
        },
        {
          "output_type": "stream",
          "name": "stdout",
          "text": [
            "\n",
            "Epoch 26/50: \n",
            "Train Acc 98.3504%\t Train Loss 0.0772\t Learning Rate 0.0100\n"
          ]
        },
        {
          "output_type": "stream",
          "name": "stderr",
          "text": []
        },
        {
          "output_type": "stream",
          "name": "stdout",
          "text": [
            "Val Acc 81.7813%\t Val Loss 1.3104\n",
            "Saving model\n"
          ]
        },
        {
          "output_type": "stream",
          "name": "stderr",
          "text": []
        },
        {
          "output_type": "stream",
          "name": "stdout",
          "text": [
            "\n",
            "Epoch 27/50: \n",
            "Train Acc 99.0267%\t Train Loss 0.0489\t Learning Rate 0.0100\n"
          ]
        },
        {
          "output_type": "stream",
          "name": "stderr",
          "text": []
        },
        {
          "output_type": "stream",
          "name": "stdout",
          "text": [
            "Val Acc 82.3012%\t Val Loss 1.2960\n",
            "Saving model\n"
          ]
        },
        {
          "output_type": "stream",
          "name": "stderr",
          "text": []
        },
        {
          "output_type": "stream",
          "name": "stdout",
          "text": [
            "\n",
            "Epoch 28/50: \n",
            "Train Acc 99.3194%\t Train Loss 0.0374\t Learning Rate 0.0100\n"
          ]
        },
        {
          "output_type": "stream",
          "name": "stderr",
          "text": []
        },
        {
          "output_type": "stream",
          "name": "stdout",
          "text": [
            "Val Acc 82.6611%\t Val Loss 1.2822\n",
            "Saving model\n"
          ]
        },
        {
          "output_type": "stream",
          "name": "stderr",
          "text": []
        },
        {
          "output_type": "stream",
          "name": "stdout",
          "text": [
            "\n",
            "Epoch 29/50: \n",
            "Train Acc 99.4273%\t Train Loss 0.0329\t Learning Rate 0.0100\n"
          ]
        },
        {
          "output_type": "stream",
          "name": "stderr",
          "text": []
        },
        {
          "output_type": "stream",
          "name": "stdout",
          "text": [
            "Val Acc 82.9439%\t Val Loss 1.2691\n",
            "Saving model\n"
          ]
        },
        {
          "output_type": "stream",
          "name": "stderr",
          "text": []
        },
        {
          "output_type": "stream",
          "name": "stdout",
          "text": [
            "\n",
            "Epoch 30/50: \n",
            "Train Acc 99.5273%\t Train Loss 0.0295\t Learning Rate 0.0100\n"
          ]
        },
        {
          "output_type": "stream",
          "name": "stderr",
          "text": []
        },
        {
          "output_type": "stream",
          "name": "stdout",
          "text": [
            "Val Acc 83.0696%\t Val Loss 1.2521\n",
            "Saving model\n"
          ]
        },
        {
          "output_type": "stream",
          "name": "stderr",
          "text": []
        },
        {
          "output_type": "stream",
          "name": "stdout",
          "text": [
            "\n",
            "Epoch 31/50: \n",
            "Train Acc 99.6208%\t Train Loss 0.0267\t Learning Rate 0.0100\n"
          ]
        },
        {
          "output_type": "stream",
          "name": "stderr",
          "text": []
        },
        {
          "output_type": "stream",
          "name": "stdout",
          "text": [
            "Val Acc 83.1096%\t Val Loss 1.2343\n",
            "Saving model\n"
          ]
        },
        {
          "output_type": "stream",
          "name": "stderr",
          "text": []
        },
        {
          "output_type": "stream",
          "name": "stdout",
          "text": [
            "\n",
            "Epoch 32/50: \n",
            "Train Acc 99.6508%\t Train Loss 0.0261\t Learning Rate 0.0100\n"
          ]
        },
        {
          "output_type": "stream",
          "name": "stderr",
          "text": []
        },
        {
          "output_type": "stream",
          "name": "stdout",
          "text": [
            "Val Acc 83.4466%\t Val Loss 1.2192\n",
            "Saving model\n"
          ]
        },
        {
          "output_type": "stream",
          "name": "stderr",
          "text": []
        },
        {
          "output_type": "stream",
          "name": "stdout",
          "text": [
            "\n",
            "Epoch 33/50: \n",
            "Train Acc 99.6936%\t Train Loss 0.0256\t Learning Rate 0.0100\n"
          ]
        },
        {
          "output_type": "stream",
          "name": "stderr",
          "text": []
        },
        {
          "output_type": "stream",
          "name": "stdout",
          "text": [
            "Val Acc 83.4866%\t Val Loss 1.2076\n",
            "Saving model\n"
          ]
        },
        {
          "output_type": "stream",
          "name": "stderr",
          "text": []
        },
        {
          "output_type": "stream",
          "name": "stdout",
          "text": [
            "\n",
            "Epoch 34/50: \n",
            "Train Acc 99.6786%\t Train Loss 0.0263\t Learning Rate 0.0100\n"
          ]
        },
        {
          "output_type": "stream",
          "name": "stderr",
          "text": []
        },
        {
          "output_type": "stream",
          "name": "stdout",
          "text": [
            "Val Acc 83.5580%\t Val Loss 1.1999\n",
            "Saving model\n"
          ]
        },
        {
          "output_type": "stream",
          "name": "stderr",
          "text": []
        },
        {
          "output_type": "stream",
          "name": "stdout",
          "text": [
            "\n",
            "Epoch 35/50: \n",
            "Train Acc 99.7151%\t Train Loss 0.0255\t Learning Rate 0.0100\n"
          ]
        },
        {
          "output_type": "stream",
          "name": "stderr",
          "text": []
        },
        {
          "output_type": "stream",
          "name": "stdout",
          "text": [
            "Val Acc 83.6952%\t Val Loss 1.1829\n",
            "Saving model\n"
          ]
        },
        {
          "output_type": "stream",
          "name": "stderr",
          "text": []
        },
        {
          "output_type": "stream",
          "name": "stdout",
          "text": [
            "\n",
            "Epoch 36/50: \n",
            "Train Acc 99.7065%\t Train Loss 0.0259\t Learning Rate 0.0100\n"
          ]
        },
        {
          "output_type": "stream",
          "name": "stderr",
          "text": []
        },
        {
          "output_type": "stream",
          "name": "stdout",
          "text": [
            "Val Acc 83.6352%\t Val Loss 1.1887\n"
          ]
        },
        {
          "output_type": "stream",
          "name": "stderr",
          "text": []
        },
        {
          "output_type": "stream",
          "name": "stdout",
          "text": [
            "\n",
            "Epoch 37/50: \n",
            "Train Acc 99.7393%\t Train Loss 0.0256\t Learning Rate 0.0100\n"
          ]
        },
        {
          "output_type": "stream",
          "name": "stderr",
          "text": []
        },
        {
          "output_type": "stream",
          "name": "stdout",
          "text": [
            "Val Acc 83.7551%\t Val Loss 1.1760\n",
            "Saving model\n"
          ]
        },
        {
          "output_type": "stream",
          "name": "stderr",
          "text": []
        },
        {
          "output_type": "stream",
          "name": "stdout",
          "text": [
            "\n",
            "Epoch 38/50: \n",
            "Train Acc 99.7386%\t Train Loss 0.0253\t Learning Rate 0.0100\n"
          ]
        },
        {
          "output_type": "stream",
          "name": "stderr",
          "text": []
        },
        {
          "output_type": "stream",
          "name": "stdout",
          "text": [
            "Val Acc 83.8894%\t Val Loss 1.1628\n",
            "Saving model\n"
          ]
        },
        {
          "output_type": "stream",
          "name": "stderr",
          "text": []
        },
        {
          "output_type": "stream",
          "name": "stdout",
          "text": [
            "\n",
            "Epoch 39/50: \n",
            "Train Acc 99.7401%\t Train Loss 0.0261\t Learning Rate 0.0100\n"
          ]
        },
        {
          "output_type": "stream",
          "name": "stderr",
          "text": []
        },
        {
          "output_type": "stream",
          "name": "stdout",
          "text": [
            "Val Acc 83.9951%\t Val Loss 1.1584\n",
            "Saving model\n"
          ]
        },
        {
          "output_type": "stream",
          "name": "stderr",
          "text": []
        },
        {
          "output_type": "stream",
          "name": "stdout",
          "text": [
            "\n",
            "Epoch 40/50: \n",
            "Train Acc 99.7608%\t Train Loss 0.0262\t Learning Rate 0.0100\n"
          ]
        },
        {
          "output_type": "stream",
          "name": "stderr",
          "text": []
        },
        {
          "output_type": "stream",
          "name": "stdout",
          "text": [
            "Val Acc 84.0951%\t Val Loss 1.1518\n",
            "Saving model\n"
          ]
        },
        {
          "output_type": "stream",
          "name": "stderr",
          "text": []
        },
        {
          "output_type": "stream",
          "name": "stdout",
          "text": [
            "\n",
            "Epoch 41/50: \n",
            "Train Acc 99.7708%\t Train Loss 0.0261\t Learning Rate 0.0100\n"
          ]
        },
        {
          "output_type": "stream",
          "name": "stderr",
          "text": []
        },
        {
          "output_type": "stream",
          "name": "stdout",
          "text": [
            "Val Acc 84.2379%\t Val Loss 1.1541\n",
            "Saving model\n"
          ]
        },
        {
          "output_type": "stream",
          "name": "stderr",
          "text": []
        },
        {
          "output_type": "stream",
          "name": "stdout",
          "text": [
            "\n",
            "Epoch 42/50: \n",
            "Train Acc 99.7758%\t Train Loss 0.0260\t Learning Rate 0.0100\n"
          ]
        },
        {
          "output_type": "stream",
          "name": "stderr",
          "text": []
        },
        {
          "output_type": "stream",
          "name": "stdout",
          "text": [
            "Val Acc 84.3036%\t Val Loss 1.1455\n",
            "Saving model\n"
          ]
        },
        {
          "output_type": "stream",
          "name": "stderr",
          "text": []
        },
        {
          "output_type": "stream",
          "name": "stdout",
          "text": [
            "\n",
            "Epoch 43/50: \n",
            "Train Acc 99.7793%\t Train Loss 0.0265\t Learning Rate 0.0100\n"
          ]
        },
        {
          "output_type": "stream",
          "name": "stderr",
          "text": []
        },
        {
          "output_type": "stream",
          "name": "stdout",
          "text": [
            "Val Acc 84.3464%\t Val Loss 1.1394\n",
            "Saving model\n"
          ]
        },
        {
          "output_type": "stream",
          "name": "stderr",
          "text": []
        },
        {
          "output_type": "stream",
          "name": "stdout",
          "text": [
            "\n",
            "Epoch 44/50: \n",
            "Train Acc 99.7622%\t Train Loss 0.0276\t Learning Rate 0.0100\n"
          ]
        },
        {
          "output_type": "stream",
          "name": "stderr",
          "text": []
        },
        {
          "output_type": "stream",
          "name": "stdout",
          "text": [
            "Val Acc 84.3122%\t Val Loss 1.1382\n"
          ]
        },
        {
          "output_type": "stream",
          "name": "stderr",
          "text": []
        },
        {
          "output_type": "stream",
          "name": "stdout",
          "text": [
            "\n",
            "Epoch 45/50: \n",
            "Train Acc 99.7879%\t Train Loss 0.0271\t Learning Rate 0.0100\n"
          ]
        },
        {
          "output_type": "stream",
          "name": "stderr",
          "text": []
        },
        {
          "output_type": "stream",
          "name": "stdout",
          "text": [
            "Val Acc 84.3550%\t Val Loss 1.1378\n",
            "Saving model\n"
          ]
        },
        {
          "output_type": "stream",
          "name": "stderr",
          "text": []
        },
        {
          "output_type": "stream",
          "name": "stdout",
          "text": [
            "\n",
            "Epoch 46/50: \n",
            "Train Acc 99.7808%\t Train Loss 0.0274\t Learning Rate 0.0100\n"
          ]
        },
        {
          "output_type": "stream",
          "name": "stderr",
          "text": []
        },
        {
          "output_type": "stream",
          "name": "stdout",
          "text": [
            "Val Acc 84.3179%\t Val Loss 1.1352\n"
          ]
        },
        {
          "output_type": "stream",
          "name": "stderr",
          "text": []
        },
        {
          "output_type": "stream",
          "name": "stdout",
          "text": [
            "\n",
            "Epoch 47/50: \n",
            "Train Acc 99.7715%\t Train Loss 0.0276\t Learning Rate 0.0100\n"
          ]
        },
        {
          "output_type": "stream",
          "name": "stderr",
          "text": []
        },
        {
          "output_type": "stream",
          "name": "stdout",
          "text": [
            "Val Acc 84.4121%\t Val Loss 1.1323\n",
            "Saving model\n"
          ]
        },
        {
          "output_type": "stream",
          "name": "stderr",
          "text": []
        },
        {
          "output_type": "stream",
          "name": "stdout",
          "text": [
            "\n",
            "Epoch 48/50: \n",
            "Train Acc 99.7922%\t Train Loss 0.0273\t Learning Rate 0.0100\n"
          ]
        },
        {
          "output_type": "stream",
          "name": "stderr",
          "text": []
        },
        {
          "output_type": "stream",
          "name": "stdout",
          "text": [
            "Val Acc 84.6378%\t Val Loss 1.1252\n",
            "Saving model\n"
          ]
        },
        {
          "output_type": "stream",
          "name": "stderr",
          "text": []
        },
        {
          "output_type": "stream",
          "name": "stdout",
          "text": [
            "\n",
            "Epoch 49/50: \n",
            "Train Acc 99.7929%\t Train Loss 0.0280\t Learning Rate 0.0100\n"
          ]
        },
        {
          "output_type": "stream",
          "name": "stderr",
          "text": []
        },
        {
          "output_type": "stream",
          "name": "stdout",
          "text": [
            "Val Acc 84.4921%\t Val Loss 1.1458\n"
          ]
        },
        {
          "output_type": "stream",
          "name": "stderr",
          "text": []
        },
        {
          "output_type": "stream",
          "name": "stdout",
          "text": [
            "\n",
            "Epoch 50/50: \n",
            "Train Acc 99.7972%\t Train Loss 0.0280\t Learning Rate 0.0100\n"
          ]
        },
        {
          "output_type": "stream",
          "name": "stderr",
          "text": [
            "                                                                                                      "
          ]
        },
        {
          "output_type": "stream",
          "name": "stdout",
          "text": [
            "Val Acc 84.4893%\t Val Loss 1.1304\n"
          ]
        },
        {
          "output_type": "stream",
          "name": "stderr",
          "text": [
            "\r"
          ]
        },
        {
          "output_type": "display_data",
          "data": {
            "text/plain": [
              "<IPython.core.display.HTML object>"
            ],
            "text/html": [
              "Waiting for W&B process to finish... <strong style=\"color:green\">(success).</strong>"
            ]
          },
          "metadata": {}
        },
        {
          "output_type": "display_data",
          "data": {
            "text/plain": [
              "VBox(children=(Label(value='253.435 MB of 253.435 MB uploaded (0.000 MB deduped)\\r'), FloatProgress(value=1.0,…"
            ],
            "application/vnd.jupyter.widget-view+json": {
              "version_major": 2,
              "version_minor": 0,
              "model_id": "6b80f13eaacf469984c56414ffa9d7f0"
            }
          },
          "metadata": {}
        },
        {
          "output_type": "display_data",
          "data": {
            "text/plain": [
              "<IPython.core.display.HTML object>"
            ],
            "text/html": [
              "<style>\n",
              "    table.wandb td:nth-child(1) { padding: 0 10px; text-align: left ; width: auto;} td:nth-child(2) {text-align: left ; width: 100%}\n",
              "    .wandb-row { display: flex; flex-direction: row; flex-wrap: wrap; justify-content: flex-start; width: 100% }\n",
              "    .wandb-col { display: flex; flex-direction: column; flex-basis: 100%; flex: 1; padding: 10px; }\n",
              "    </style>\n",
              "<div class=\"wandb-row\"><div class=\"wandb-col\"><h3>Run history:</h3><br/><table class=\"wandb\"><tr><td>learning_Rate</td><td>████████████████████▁▁▁▁▁▁▁▁▁▁▁▁▁▁▁▁▁▁▁▁</td></tr><tr><td>train_Acc</td><td>▁▁▂▃▄▅▅▆▆▆▆▆▆▆▆▇▇▇▇▇████████████████████</td></tr><tr><td>train_loss</td><td>█▇▆▅▃▃▃▂▂▂▂▂▂▂▂▂▂▂▂▂▁▁▁▁▁▁▁▁▁▁▁▁▁▁▁▁▁▁▁▁</td></tr><tr><td>validation_Acc</td><td>▁▁▂▃▅▅▆▆▆▆▆▆▆▆▆▇▆▆▇▆████████████████████</td></tr><tr><td>validation_loss</td><td>█▆▅▄▃▂▂▂▂▂▂▂▂▂▂▂▂▂▂▂▁▁▁▁▁▁▁▁▁▁▁▁▁▁▁▁▁▁▁▁</td></tr></table><br/></div><div class=\"wandb-col\"><h3>Run summary:</h3><br/><table class=\"wandb\"><tr><td>learning_Rate</td><td>0.01</td></tr><tr><td>train_Acc</td><td>99.79719</td></tr><tr><td>train_loss</td><td>0.028</td></tr><tr><td>validation_Acc</td><td>84.48926</td></tr><tr><td>validation_loss</td><td>1.13039</td></tr></table><br/></div></div>"
            ]
          },
          "metadata": {}
        },
        {
          "output_type": "display_data",
          "data": {
            "text/plain": [
              "<IPython.core.display.HTML object>"
            ],
            "text/html": [
              "Synced <strong style=\"color:#cdcd00\">ConvNext-trasform</strong>: <a href=\"https://wandb.ai/stack-it/hw2p2-ablations/runs/1irgi2zk\" target=\"_blank\">https://wandb.ai/stack-it/hw2p2-ablations/runs/1irgi2zk</a><br/>Synced 5 W&B file(s), 0 media file(s), 0 artifact file(s) and 1 other file(s)"
            ]
          },
          "metadata": {}
        },
        {
          "output_type": "display_data",
          "data": {
            "text/plain": [
              "<IPython.core.display.HTML object>"
            ],
            "text/html": [
              "Find logs at: <code>./wandb/run-20221020_030231-1irgi2zk/logs</code>"
            ]
          },
          "metadata": {}
        }
      ],
      "source": [
        "best_valacc = 0.0\n",
        "\n",
        "for epoch in range(config['epochs']):\n",
        "\n",
        "    curr_lr = float(optimizer.param_groups[0]['lr'])\n",
        "\n",
        "    train_acc, train_loss = train(model, train_loader, optimizer, criterion)\n",
        "    \n",
        "    print(\"\\nEpoch {}/{}: \\nTrain Acc {:.04f}%\\t Train Loss {:.04f}\\t Learning Rate {:.04f}\".format(\n",
        "        epoch + 1,\n",
        "        config['epochs'],\n",
        "        train_acc,\n",
        "        train_loss,\n",
        "        curr_lr))\n",
        "    \n",
        "    val_acc, val_loss = validate(model, val_loader, criterion)\n",
        "    scheduler.step(val_acc)\n",
        "    print(\"Val Acc {:.04f}%\\t Val Loss {:.04f}\".format(val_acc, val_loss))\n",
        "\n",
        "    wandb.log({\"train_loss\":train_loss, 'train_Acc': train_acc, 'validation_Acc':val_acc, \n",
        "               'validation_loss': val_loss, \"learning_Rate\": curr_lr})\n",
        "    \n",
        "    # If you are using a scheduler in your train function within your iteration loop, you may want to log\n",
        "    # your learning rate differently \n",
        "\n",
        "    # #Save model in drive location if val_acc is better than best recorded val_acc\n",
        "    if val_acc >= best_valacc:\n",
        "      #path = os.path.join(root, model_directory, 'checkpoint' + '.pth')\n",
        "      print(\"Saving model\")\n",
        "      torch.save({'model_state_dict':model.state_dict(),\n",
        "                  'optimizer_state_dict':optimizer.state_dict(),\n",
        "                  'scheduler_state_dict':scheduler.state_dict(),\n",
        "                  'val_acc': val_acc, \n",
        "                  'epoch': epoch}, './checkpoint.pth')\n",
        "      best_valacc = val_acc\n",
        "      wandb.save('checkpoint.pth')\n",
        "      # You may find it interesting to exlplore Wandb Artifcats to version your models\n",
        "run.finish()"
      ]
    },
    {
      "cell_type": "markdown",
      "metadata": {
        "id": "UpgCHImRkYQW"
      },
      "source": [
        "# Classification Task: Testing"
      ]
    },
    {
      "cell_type": "code",
      "execution_count": 36,
      "metadata": {
        "id": "U2WQEUjXkWvo"
      },
      "outputs": [],
      "source": [
        "def test(model,dataloader):\n",
        "\n",
        "  model.eval()\n",
        "  batch_bar = tqdm(total=len(dataloader), dynamic_ncols=True, position=0, leave=False, desc='test')\n",
        "  test_results = []\n",
        "  \n",
        "  for i, (images) in enumerate(dataloader):\n",
        "      # TODO: Finish predicting on the test set.\n",
        "      images = images.to(device)\n",
        "\n",
        "      with torch.inference_mode():\n",
        "        outputs = model(images)\n",
        "\n",
        "      outputs = torch.argmax(outputs, axis=1).detach().cpu().numpy().tolist()\n",
        "      test_results.extend(outputs)\n",
        "      \n",
        "      batch_bar.update()\n",
        "      \n",
        "  batch_bar.close()\n",
        "  return test_results"
      ]
    },
    {
      "cell_type": "code",
      "execution_count": 37,
      "metadata": {
        "id": "K7R1lcCAzULc",
        "colab": {
          "base_uri": "https://localhost:8080/"
        },
        "outputId": "e1de2de0-e0e9-431e-cd95-b3e2f1743ac6"
      },
      "outputs": [
        {
          "output_type": "stream",
          "name": "stderr",
          "text": []
        }
      ],
      "source": [
        "test_results = test(model, test_loader)"
      ]
    },
    {
      "cell_type": "markdown",
      "metadata": {
        "id": "zqfUzwS2L1gx"
      },
      "source": [
        "## Generate csv to submit to Kaggle"
      ]
    },
    {
      "cell_type": "code",
      "execution_count": 38,
      "metadata": {
        "id": "Vob9a2-HkW_V"
      },
      "outputs": [],
      "source": [
        "with open(\"classification_early_submission.csv\", \"w+\") as f:\n",
        "    f.write(\"id,label\\n\")\n",
        "    for i in range(len(test_dataset)):\n",
        "        f.write(\"{},{}\\n\".format(str(i).zfill(6) + \".jpg\", test_results[i]))"
      ]
    },
    {
      "cell_type": "markdown",
      "metadata": {
        "id": "PsJx1l1T4twC"
      },
      "source": [
        "# Verification Task: Validation"
      ]
    },
    {
      "cell_type": "markdown",
      "metadata": {
        "id": "FoBFFF8-Lpvj"
      },
      "source": [
        "The verification task consists of the following generalized scenario:\n",
        "- You are given X unknown identitites \n",
        "- You are given Y known identitites\n",
        "- Your goal is to match X unknown identities to Y known identities.\n",
        "\n",
        "We have given you a verification dataset, that consists of 1000 known identities, and 1000 unknown identities. The 1000 unknown identities are split into dev (200) and test (800). Your goal is to compare the unknown identities to the 1000 known identities and assign an identity to each image from the set of unknown identities. \n",
        "\n",
        "Your will use/finetune your model trained for classification to compare images between known and unknown identities using a similarity metric and assign labels to the unknown identities. \n",
        "\n",
        "This will judge your model's performance in terms of the quality of embeddings/features it generates on images/faces it has never seen during training for classification."
      ]
    },
    {
      "cell_type": "code",
      "execution_count": 39,
      "metadata": {
        "id": "f9aY5o-suWdn",
        "colab": {
          "base_uri": "https://localhost:8080/"
        },
        "outputId": "0be60b51-28b1-48d2-df7e-2aa595e9ced8"
      },
      "outputs": [
        {
          "output_type": "stream",
          "name": "stderr",
          "text": [
            "100%|██████████| 800/800 [00:00<00:00, 13821.03it/s]\n",
            "100%|██████████| 1000/1000 [00:00<00:00, 13207.29it/s]\n"
          ]
        }
      ],
      "source": [
        "known_regex = \"/content/data/verification/known/*/*\"\n",
        "known_paths = [i.split('/')[-2] for i in sorted(glob.glob(known_regex))] \n",
        "# This obtains the list of known identities from the known folder\n",
        "\n",
        "\n",
        "#Change the directory accordingly for the test set\n",
        "# unknown_regex = \"/content/data/verification/unknown_dev/*\" \n",
        "unknown_regex = \"/content/data/verification/unknown_test/*\"\n",
        "\n",
        "# We load the images from known and unknown folders\n",
        "unknown_images = [Image.open(p) for p in tqdm(sorted(glob.glob(unknown_regex)))]\n",
        "known_images = [Image.open(p) for p in tqdm(sorted(glob.glob(known_regex)))]\n",
        "\n",
        "# Why do you need only ToTensor() here?\n",
        "transforms = torchvision.transforms.Compose([\n",
        "    torchvision.transforms.ToTensor()])\n",
        "\n",
        "unknown_images = torch.stack([transforms(x) for x in unknown_images])\n",
        "known_images  = torch.stack([transforms(y) for y in known_images ])\n",
        "#Print your shapes here to understand what we have done\n",
        "\n",
        "# You can use other similarity metrics like Euclidean Distance if you wish\n",
        "similarity_metric = torch.nn.CosineSimilarity(dim= 1, eps= 1e-6) "
      ]
    },
    {
      "cell_type": "code",
      "execution_count": 40,
      "metadata": {
        "id": "rk1LS0BRxFHM"
      },
      "outputs": [],
      "source": [
        "def eval_verification(unknown_images, known_images, model, similarity, batch_size= config['batch_size'], mode='test'): \n",
        "    #change mode to test\n",
        "    unknown_feats, known_feats = [], []\n",
        "\n",
        "    batch_bar = tqdm(total=len(unknown_images)//batch_size, dynamic_ncols=True, position=0, leave=False, desc=mode)\n",
        "    model.eval()\n",
        "\n",
        "    # We load the images as batches for memory optimization and avoiding CUDA OOM errors\n",
        "    for i in range(0, unknown_images.shape[0], batch_size):\n",
        "        unknown_batch = unknown_images[i:i+batch_size] # Slice a given portion upto batch_size\n",
        "        \n",
        "        with torch.no_grad():\n",
        "            unknown_feat = model(unknown_batch.float().to(device), return_feats=True) #Get features from model         \n",
        "        unknown_feats.append(unknown_feat)\n",
        "        batch_bar.update()\n",
        "    \n",
        "    batch_bar.close()\n",
        "    \n",
        "    batch_bar = tqdm(total=len(known_images)//batch_size, dynamic_ncols=True, position=0, leave=False, desc=mode)\n",
        "    \n",
        "    for i in range(0, known_images.shape[0], batch_size):\n",
        "        known_batch = known_images[i:i+batch_size] \n",
        "        with torch.no_grad():\n",
        "              known_feat = model(known_batch.float().to(device), return_feats=True)\n",
        "          \n",
        "        known_feats.append(known_feat)\n",
        "        batch_bar.update()\n",
        "\n",
        "    batch_bar.close()\n",
        "\n",
        "    # Concatenate all the batches\n",
        "    unknown_feats = torch.cat(unknown_feats, dim=0)\n",
        "    known_feats = torch.cat(known_feats, dim=0)\n",
        "\n",
        "    similarity_values = torch.stack([similarity(unknown_feats, known_feature) for known_feature in known_feats])\n",
        "    # Print the inner list comprehension in a separate cell - what is really happening?\n",
        "\n",
        "    predictions = similarity_values.argmax(0).cpu().numpy() #Why are we doing an argmax here?\n",
        "\n",
        "    # Map argmax indices to identity strings\n",
        "    pred_id_strings = [known_paths[i] for i in predictions]\n",
        "    \n",
        "    if mode == 'val':\n",
        "      true_ids = pd.read_csv('/content/data/verification/dev_identities.csv')['label'].tolist()\n",
        "      accuracy = accuracy_score(pred_id_strings, true_ids)\n",
        "      print(\"Verification Accuracy = {}\".format(accuracy))\n",
        "    \n",
        "    return pred_id_strings"
      ]
    },
    {
      "cell_type": "code",
      "execution_count": 41,
      "metadata": {
        "id": "zMC7FacaUnJ7",
        "colab": {
          "base_uri": "https://localhost:8080/"
        },
        "outputId": "7461ad78-65ae-4b16-d4c7-e910bbef77a6"
      },
      "outputs": [
        {
          "output_type": "stream",
          "name": "stderr",
          "text": []
        }
      ],
      "source": [
        "pred_id_strings = eval_verification(unknown_images, known_images, model, similarity_metric, config['batch_size'], mode='test')"
      ]
    },
    {
      "cell_type": "code",
      "execution_count": 42,
      "metadata": {
        "id": "fD-r-HmsAeWV"
      },
      "outputs": [],
      "source": [
        "with open(\"verification_early_submission.csv\", \"w+\") as f:\n",
        "    f.write(\"id,label\\n\")\n",
        "    for i in range(len(pred_id_strings)):\n",
        "        f.write(\"{},{}\\n\".format(i, pred_id_strings[i]))"
      ]
    },
    {
      "cell_type": "markdown",
      "metadata": {
        "id": "x054efAPKspe"
      },
      "source": [
        "Kaggel Submission"
      ]
    },
    {
      "cell_type": "code",
      "execution_count": 43,
      "metadata": {
        "id": "EEG989DM1PyD",
        "colab": {
          "base_uri": "https://localhost:8080/"
        },
        "outputId": "439fdc85-cfcd-447a-e928-533f89b1589e"
      },
      "outputs": [
        {
          "output_type": "stream",
          "name": "stdout",
          "text": [
            "Warning: Looks like you're using an outdated API Version, please consider updating (server 1.5.12 / client 1.5.8)\n",
            "100% 542k/542k [00:00<00:00, 2.80MB/s]\n",
            "Successfully submitted to Face Recognition"
          ]
        }
      ],
      "source": [
        "### Submit to kaggle competition using kaggle API\n",
        "!kaggle competitions submit -c 11-785-f22-hw2p2-classification -f /content/classification_early_submission.csv -m \"classification_Convnext\""
      ]
    },
    {
      "cell_type": "code",
      "execution_count": 44,
      "metadata": {
        "id": "9h4e1TvbJFxT",
        "colab": {
          "base_uri": "https://localhost:8080/"
        },
        "outputId": "100eafda-feae-4979-8f39-46aa11951e32"
      },
      "outputs": [
        {
          "output_type": "stream",
          "name": "stdout",
          "text": [
            "Warning: Looks like you're using an outdated API Version, please consider updating (server 1.5.12 / client 1.5.8)\n",
            "\r  0% 0.00/9.28k [00:00<?, ?B/s]\r100% 9.28k/9.28k [00:00<00:00, 49.6kB/s]\n",
            "Successfully submitted to Face Verification"
          ]
        }
      ],
      "source": [
        "### Submit to kaggle competition using kaggle API\n",
        "!kaggle competitions submit -c 11-785-f22-hw2p2-verification -f /content/verification_early_submission.csv -m \"verification_ConvNext\""
      ]
    },
    {
      "cell_type": "code",
      "execution_count": null,
      "metadata": {
        "id": "CqEXryV4mcRU"
      },
      "outputs": [],
      "source": []
    }
  ],
  "metadata": {
    "colab": {
      "collapsed_sections": [
        "scOnMklwWBY6",
        "mIqmojPaWD0H"
      ],
      "provenance": [],
      "machine_shape": "hm",
      "include_colab_link": true
    },
    "gpuClass": "standard",
    "kernelspec": {
      "display_name": "Python 3.9.13 64-bit",
      "language": "python",
      "name": "python3"
    },
    "language_info": {
      "name": "python",
      "version": "3.9.13"
    },
    "vscode": {
      "interpreter": {
        "hash": "b0fa6594d8f4cbf19f97940f81e996739fb7646882a419484c72d19e05852a7e"
      }
    },
    "accelerator": "GPU",
    "widgets": {
      "application/vnd.jupyter.widget-state+json": {
        "6b80f13eaacf469984c56414ffa9d7f0": {
          "model_module": "@jupyter-widgets/controls",
          "model_name": "VBoxModel",
          "model_module_version": "1.5.0",
          "state": {
            "_dom_classes": [],
            "_model_module": "@jupyter-widgets/controls",
            "_model_module_version": "1.5.0",
            "_model_name": "VBoxModel",
            "_view_count": null,
            "_view_module": "@jupyter-widgets/controls",
            "_view_module_version": "1.5.0",
            "_view_name": "VBoxView",
            "box_style": "",
            "children": [
              "IPY_MODEL_1b9e41760ea2401280def85b3f07f9f0",
              "IPY_MODEL_ea354c399cbe432489b0f9c9bc13eeeb"
            ],
            "layout": "IPY_MODEL_d72266ba767244bc978d3a97c8e661b1"
          }
        },
        "1b9e41760ea2401280def85b3f07f9f0": {
          "model_module": "@jupyter-widgets/controls",
          "model_name": "LabelModel",
          "model_module_version": "1.5.0",
          "state": {
            "_dom_classes": [],
            "_model_module": "@jupyter-widgets/controls",
            "_model_module_version": "1.5.0",
            "_model_name": "LabelModel",
            "_view_count": null,
            "_view_module": "@jupyter-widgets/controls",
            "_view_module_version": "1.5.0",
            "_view_name": "LabelView",
            "description": "",
            "description_tooltip": null,
            "layout": "IPY_MODEL_178e72a33c1e4d67a9dce8061f1b2e89",
            "placeholder": "​",
            "style": "IPY_MODEL_e85e4a9cdc3640bc8d1b6bb93063bb98",
            "value": "253.435 MB of 253.435 MB uploaded (0.000 MB deduped)\r"
          }
        },
        "ea354c399cbe432489b0f9c9bc13eeeb": {
          "model_module": "@jupyter-widgets/controls",
          "model_name": "FloatProgressModel",
          "model_module_version": "1.5.0",
          "state": {
            "_dom_classes": [],
            "_model_module": "@jupyter-widgets/controls",
            "_model_module_version": "1.5.0",
            "_model_name": "FloatProgressModel",
            "_view_count": null,
            "_view_module": "@jupyter-widgets/controls",
            "_view_module_version": "1.5.0",
            "_view_name": "ProgressView",
            "bar_style": "",
            "description": "",
            "description_tooltip": null,
            "layout": "IPY_MODEL_14a9182e49be484295ea08d4dc136ef1",
            "max": 1,
            "min": 0,
            "orientation": "horizontal",
            "style": "IPY_MODEL_d18433e480124be2b23e5612e7817ed3",
            "value": 1
          }
        },
        "d72266ba767244bc978d3a97c8e661b1": {
          "model_module": "@jupyter-widgets/base",
          "model_name": "LayoutModel",
          "model_module_version": "1.2.0",
          "state": {
            "_model_module": "@jupyter-widgets/base",
            "_model_module_version": "1.2.0",
            "_model_name": "LayoutModel",
            "_view_count": null,
            "_view_module": "@jupyter-widgets/base",
            "_view_module_version": "1.2.0",
            "_view_name": "LayoutView",
            "align_content": null,
            "align_items": null,
            "align_self": null,
            "border": null,
            "bottom": null,
            "display": null,
            "flex": null,
            "flex_flow": null,
            "grid_area": null,
            "grid_auto_columns": null,
            "grid_auto_flow": null,
            "grid_auto_rows": null,
            "grid_column": null,
            "grid_gap": null,
            "grid_row": null,
            "grid_template_areas": null,
            "grid_template_columns": null,
            "grid_template_rows": null,
            "height": null,
            "justify_content": null,
            "justify_items": null,
            "left": null,
            "margin": null,
            "max_height": null,
            "max_width": null,
            "min_height": null,
            "min_width": null,
            "object_fit": null,
            "object_position": null,
            "order": null,
            "overflow": null,
            "overflow_x": null,
            "overflow_y": null,
            "padding": null,
            "right": null,
            "top": null,
            "visibility": null,
            "width": null
          }
        },
        "178e72a33c1e4d67a9dce8061f1b2e89": {
          "model_module": "@jupyter-widgets/base",
          "model_name": "LayoutModel",
          "model_module_version": "1.2.0",
          "state": {
            "_model_module": "@jupyter-widgets/base",
            "_model_module_version": "1.2.0",
            "_model_name": "LayoutModel",
            "_view_count": null,
            "_view_module": "@jupyter-widgets/base",
            "_view_module_version": "1.2.0",
            "_view_name": "LayoutView",
            "align_content": null,
            "align_items": null,
            "align_self": null,
            "border": null,
            "bottom": null,
            "display": null,
            "flex": null,
            "flex_flow": null,
            "grid_area": null,
            "grid_auto_columns": null,
            "grid_auto_flow": null,
            "grid_auto_rows": null,
            "grid_column": null,
            "grid_gap": null,
            "grid_row": null,
            "grid_template_areas": null,
            "grid_template_columns": null,
            "grid_template_rows": null,
            "height": null,
            "justify_content": null,
            "justify_items": null,
            "left": null,
            "margin": null,
            "max_height": null,
            "max_width": null,
            "min_height": null,
            "min_width": null,
            "object_fit": null,
            "object_position": null,
            "order": null,
            "overflow": null,
            "overflow_x": null,
            "overflow_y": null,
            "padding": null,
            "right": null,
            "top": null,
            "visibility": null,
            "width": null
          }
        },
        "e85e4a9cdc3640bc8d1b6bb93063bb98": {
          "model_module": "@jupyter-widgets/controls",
          "model_name": "DescriptionStyleModel",
          "model_module_version": "1.5.0",
          "state": {
            "_model_module": "@jupyter-widgets/controls",
            "_model_module_version": "1.5.0",
            "_model_name": "DescriptionStyleModel",
            "_view_count": null,
            "_view_module": "@jupyter-widgets/base",
            "_view_module_version": "1.2.0",
            "_view_name": "StyleView",
            "description_width": ""
          }
        },
        "14a9182e49be484295ea08d4dc136ef1": {
          "model_module": "@jupyter-widgets/base",
          "model_name": "LayoutModel",
          "model_module_version": "1.2.0",
          "state": {
            "_model_module": "@jupyter-widgets/base",
            "_model_module_version": "1.2.0",
            "_model_name": "LayoutModel",
            "_view_count": null,
            "_view_module": "@jupyter-widgets/base",
            "_view_module_version": "1.2.0",
            "_view_name": "LayoutView",
            "align_content": null,
            "align_items": null,
            "align_self": null,
            "border": null,
            "bottom": null,
            "display": null,
            "flex": null,
            "flex_flow": null,
            "grid_area": null,
            "grid_auto_columns": null,
            "grid_auto_flow": null,
            "grid_auto_rows": null,
            "grid_column": null,
            "grid_gap": null,
            "grid_row": null,
            "grid_template_areas": null,
            "grid_template_columns": null,
            "grid_template_rows": null,
            "height": null,
            "justify_content": null,
            "justify_items": null,
            "left": null,
            "margin": null,
            "max_height": null,
            "max_width": null,
            "min_height": null,
            "min_width": null,
            "object_fit": null,
            "object_position": null,
            "order": null,
            "overflow": null,
            "overflow_x": null,
            "overflow_y": null,
            "padding": null,
            "right": null,
            "top": null,
            "visibility": null,
            "width": null
          }
        },
        "d18433e480124be2b23e5612e7817ed3": {
          "model_module": "@jupyter-widgets/controls",
          "model_name": "ProgressStyleModel",
          "model_module_version": "1.5.0",
          "state": {
            "_model_module": "@jupyter-widgets/controls",
            "_model_module_version": "1.5.0",
            "_model_name": "ProgressStyleModel",
            "_view_count": null,
            "_view_module": "@jupyter-widgets/base",
            "_view_module_version": "1.2.0",
            "_view_name": "StyleView",
            "bar_color": null,
            "description_width": ""
          }
        }
      }
    }
  },
  "nbformat": 4,
  "nbformat_minor": 0
}