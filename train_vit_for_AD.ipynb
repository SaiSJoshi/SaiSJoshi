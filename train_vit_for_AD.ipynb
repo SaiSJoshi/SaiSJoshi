{
  "cells": [
    {
      "cell_type": "markdown",
      "metadata": {
        "id": "view-in-github",
        "colab_type": "text"
      },
      "source": [
        "<a href=\"https://colab.research.google.com/github/SaiSJoshi/SaiSJoshi/blob/main/train_vit_for_AD.ipynb\" target=\"_parent\"><img src=\"https://colab.research.google.com/assets/colab-badge.svg\" alt=\"Open In Colab\"/></a>"
      ]
    },
    {
      "cell_type": "markdown",
      "source": [
        "# Import"
      ],
      "metadata": {
        "id": "10t1ZNM8cmOA"
      }
    },
    {
      "cell_type": "code",
      "source": [
        "from google.colab import drive\n",
        "drive.mount('/content/gdrive')"
      ],
      "metadata": {
        "colab": {
          "base_uri": "https://localhost:8080/"
        },
        "id": "kmm7_52Ybj7H",
        "outputId": "49eccbad-ca10-4233-fa73-04ee149cb3a7"
      },
      "execution_count": 1,
      "outputs": [
        {
          "output_type": "stream",
          "name": "stdout",
          "text": [
            "Mounted at /content/gdrive\n"
          ]
        }
      ]
    },
    {
      "cell_type": "code",
      "source": [
        "import sys\n",
        "sys.path.append('/content/gdrive/MyDrive/AD_NET/AD-Net/sai_stuff/Code/vit')"
      ],
      "metadata": {
        "id": "kh4YtsI4cARZ"
      },
      "execution_count": 2,
      "outputs": []
    },
    {
      "cell_type": "code",
      "source": [
        "!pip install einops"
      ],
      "metadata": {
        "colab": {
          "base_uri": "https://localhost:8080/"
        },
        "id": "tDPhDUpncSo5",
        "outputId": "0139539d-b265-4f92-dbbe-1afc52957e0b"
      },
      "execution_count": 3,
      "outputs": [
        {
          "output_type": "stream",
          "name": "stdout",
          "text": [
            "Looking in indexes: https://pypi.org/simple, https://us-python.pkg.dev/colab-wheels/public/simple/\n",
            "Collecting einops\n",
            "  Downloading einops-0.4.1-py3-none-any.whl (28 kB)\n",
            "Installing collected packages: einops\n",
            "Successfully installed einops-0.4.1\n"
          ]
        }
      ]
    },
    {
      "cell_type": "code",
      "source": [
        "! pip install pydicom"
      ],
      "metadata": {
        "colab": {
          "base_uri": "https://localhost:8080/"
        },
        "id": "ZVFsR2GjbM_t",
        "outputId": "79a1beb6-9eeb-4414-a3c4-1cfc84d3715b"
      },
      "execution_count": 4,
      "outputs": [
        {
          "output_type": "stream",
          "name": "stdout",
          "text": [
            "Looking in indexes: https://pypi.org/simple, https://us-python.pkg.dev/colab-wheels/public/simple/\n",
            "Collecting pydicom\n",
            "  Downloading pydicom-2.3.0-py3-none-any.whl (2.0 MB)\n",
            "\u001b[K     |████████████████████████████████| 2.0 MB 15.6 MB/s \n",
            "\u001b[?25hInstalling collected packages: pydicom\n",
            "Successfully installed pydicom-2.3.0\n"
          ]
        }
      ]
    },
    {
      "cell_type": "code",
      "source": [
        "! pip install SimpleITK"
      ],
      "metadata": {
        "colab": {
          "base_uri": "https://localhost:8080/"
        },
        "id": "qr_a--RKchmc",
        "outputId": "b06ed242-333f-4498-d982-108e4bdc0d4f"
      },
      "execution_count": 5,
      "outputs": [
        {
          "output_type": "stream",
          "name": "stdout",
          "text": [
            "Looking in indexes: https://pypi.org/simple, https://us-python.pkg.dev/colab-wheels/public/simple/\n",
            "Collecting SimpleITK\n",
            "  Downloading SimpleITK-2.2.0-cp37-cp37m-manylinux_2_17_x86_64.manylinux2014_x86_64.whl (52.8 MB)\n",
            "\u001b[K     |████████████████████████████████| 52.8 MB 111 kB/s \n",
            "\u001b[?25hInstalling collected packages: SimpleITK\n",
            "Successfully installed SimpleITK-2.2.0\n"
          ]
        }
      ]
    },
    {
      "cell_type": "code",
      "execution_count": 6,
      "metadata": {
        "colab": {
          "base_uri": "https://localhost:8080/"
        },
        "id": "fQd7sXM-RQ_0",
        "outputId": "29228311-112c-42ff-8901-80ccf80e2197"
      },
      "outputs": [
        {
          "output_type": "stream",
          "name": "stdout",
          "text": [
            "Device:  cuda\n"
          ]
        }
      ],
      "source": [
        "import os\n",
        "import sys \n",
        "import json\n",
        "import glob\n",
        "import random\n",
        "import collections\n",
        "import time\n",
        "import re\n",
        "\n",
        "import numpy as np\n",
        "import pandas as pd\n",
        "import pydicom\n",
        "from pydicom.pixel_data_handlers.util import apply_voi_lut\n",
        "import matplotlib.pyplot as plt\n",
        "import seaborn as sns\n",
        "\n",
        "import torch\n",
        "from torch import nn\n",
        "from torch.utils import data as torch_data\n",
        "from sklearn import model_selection as sk_model_selection\n",
        "from torch.nn import functional as torch_functional\n",
        "import torch.nn.functional as F\n",
        "\n",
        "from sklearn.model_selection import StratifiedKFold\n",
        "from sklearn.metrics import roc_auc_score\n",
        "\n",
        "device = 'cuda' if torch.cuda.is_available() else 'cpu'\n",
        "print(\"Device: \", device)"
      ]
    },
    {
      "cell_type": "markdown",
      "source": [],
      "metadata": {
        "id": "qRZHu9KAzhLA"
      }
    },
    {
      "cell_type": "code",
      "execution_count": 7,
      "metadata": {
        "id": "jE-bIXX-RQ_3"
      },
      "outputs": [],
      "source": [
        "def set_seed(seed):\n",
        "    random.seed(seed)\n",
        "    os.environ[\"PYTHONHASHSEED\"] = str(seed)\n",
        "    np.random.seed(seed)\n",
        "    torch.manual_seed(seed)\n",
        "    if torch.cuda.is_available():\n",
        "        torch.cuda.manual_seed_all(seed)\n",
        "        torch.backends.cudnn.deterministic = True\n",
        "\n",
        "set_seed(12)"
      ]
    },
    {
      "cell_type": "code",
      "execution_count": 8,
      "metadata": {
        "id": "BK5RMYFnRQ_4"
      },
      "outputs": [],
      "source": [
        "from model import Model\n",
        "from ad_net_dataset import ADNetDataset\n",
        "from trainer import Trainer"
      ]
    },
    {
      "cell_type": "code",
      "execution_count": 9,
      "metadata": {
        "id": "h0VsM3NfRQ_4"
      },
      "outputs": [],
      "source": [
        "train_dataset = ADNetDataset('/content/gdrive/MyDrive/AD_NET/AD-Net/sai_stuff/Code/vit/data/ad_train_ds', '/content/gdrive/MyDrive/AD_NET/AD-Net/sai_stuff/Code/vit/data/cn_train_ds')\n",
        "test_dataset = ADNetDataset('/content/gdrive/MyDrive/AD_NET/AD-Net/sai_stuff/Code/vit/data/ad_test_ds', '/content/gdrive/MyDrive/AD_NET/AD-Net/sai_stuff/Code/vit/data/cn_test_ds')"
      ]
    },
    {
      "cell_type": "code",
      "execution_count": 10,
      "metadata": {
        "id": "37aDE3B3RQ_4"
      },
      "outputs": [],
      "source": [
        "# train_dataset[0]['X'].shape"
      ]
    },
    {
      "cell_type": "code",
      "execution_count": 11,
      "metadata": {
        "id": "FRxMepWfRQ_5"
      },
      "outputs": [],
      "source": [
        "train_loader = torch_data.DataLoader(\n",
        "    train_dataset,\n",
        "    batch_size=4,\n",
        "    shuffle=True,\n",
        "    num_workers=1,\n",
        "    pin_memory = True,\n",
        ")\n",
        "\n",
        "test_loader = torch_data.DataLoader(\n",
        "    test_dataset,\n",
        "    batch_size=4,\n",
        "    shuffle=True,\n",
        "    num_workers=1,\n",
        "    pin_memory = True,\n",
        ")"
      ]
    },
    {
      "cell_type": "code",
      "execution_count": 12,
      "metadata": {
        "id": "z0qmD4KLRQ_5"
      },
      "outputs": [],
      "source": [
        "device = torch.device(\"cuda\" if torch.cuda.is_available() else \"cpu\")\n",
        "\n",
        "model = Model(\n",
        "    image_size = 128,\n",
        "    patch_size = 32,\n",
        "    num_classes = 1,\n",
        "    dim = 1024,\n",
        "    depth = 2,\n",
        "    heads = 16,\n",
        "    mlp_dim = 2048,\n",
        "    channels = 1,\n",
        "    dropout = 0.1,\n",
        "    emb_dropout = 0.1\n",
        "    \n",
        ")\n",
        "model.to(device)\n",
        "\n",
        "optimizer = torch.optim.Adam(model.parameters(), lr=0.001)\n",
        "criterion = torch_functional.binary_cross_entropy_with_logits\n"
      ]
    },
    {
      "cell_type": "code",
      "execution_count": 13,
      "metadata": {
        "id": "OV6a2M3HRQ_6"
      },
      "outputs": [],
      "source": [
        "threshold = 0.5\n",
        "trainer = Trainer(\n",
        "    model, \n",
        "    device, \n",
        "    optimizer, \n",
        "    criterion,\n",
        "    threshold_val=threshold\n",
        ")"
      ]
    },
    {
      "cell_type": "code",
      "execution_count": 14,
      "metadata": {
        "colab": {
          "base_uri": "https://localhost:8080/"
        },
        "id": "Mru85UVkRQ_6",
        "outputId": "a4b27aea-085b-4c90-8679-097e87a129f6"
      },
      "outputs": [
        {
          "output_type": "stream",
          "name": "stdout",
          "text": [
            "EPOCH: 1\n",
            "Valid Step 1/5, valid_loss: 0.5743\n",
            "Valid Step 2/5, valid_loss: 1.1269\n",
            "Valid Step 3/5, valid_loss: 0.8199\n",
            "Valid Step 4/5, valid_loss: 0.8507\n",
            "Valid Step 5/5, valid_loss: 0.9431\n",
            "[Epoch Train: 1] loss: 0.992, time: 3.00 s            \n",
            "[Epoch Valid: 1] loss: 0.943, auc: 0.500, time: 0.00 s, precision: 0.000, recall: 0.000, f1: 0.000\n"
          ]
        },
        {
          "output_type": "stream",
          "name": "stderr",
          "text": [
            "/usr/local/lib/python3.7/dist-packages/sklearn/metrics/_classification.py:1318: UndefinedMetricWarning: Precision is ill-defined and being set to 0.0 due to no predicted samples. Use `zero_division` parameter to control this behavior.\n",
            "  _warn_prf(average, modifier, msg_start, len(result))\n"
          ]
        },
        {
          "output_type": "stream",
          "name": "stdout",
          "text": [
            "auc improved from inf to 0.9431. Saved model to 'out_models-best.pth'\n",
            "EPOCH: 2\n",
            "Valid Step 1/5, valid_loss: 0.9357\n",
            "Valid Step 2/5, valid_loss: 0.7565\n",
            "Valid Step 3/5, valid_loss: 0.8162\n",
            "Valid Step 4/5, valid_loss: 0.8462\n",
            "Valid Step 5/5, valid_loss: 0.7565\n",
            "[Epoch Train: 2] loss: 0.810, time: 1.00 s            \n",
            "[Epoch Valid: 2] loss: 0.757, auc: 0.500, time: 0.00 s, precision: 0.000, recall: 0.000, f1: 0.000\n"
          ]
        },
        {
          "output_type": "stream",
          "name": "stderr",
          "text": [
            "/usr/local/lib/python3.7/dist-packages/sklearn/metrics/_classification.py:1318: UndefinedMetricWarning: Precision is ill-defined and being set to 0.0 due to no predicted samples. Use `zero_division` parameter to control this behavior.\n",
            "  _warn_prf(average, modifier, msg_start, len(result))\n"
          ]
        },
        {
          "output_type": "stream",
          "name": "stdout",
          "text": [
            "auc improved from 0.943 to 0.7565. Saved model to 'out_models-best.pth'\n",
            "EPOCH: 3\n",
            "Valid Step 1/5, valid_loss: 0.5747\n",
            "Valid Step 2/5, valid_loss: 0.9465\n",
            "Valid Step 3/5, valid_loss: 1.0747\n",
            "Valid Step 4/5, valid_loss: 0.9492\n",
            "Valid Step 5/5, valid_loss: 0.9498\n",
            "[Epoch Train: 3] loss: 0.656, time: 1.00 s            \n",
            "[Epoch Valid: 3] loss: 0.950, auc: 0.500, time: 0.00 s, precision: 0.500, recall: 1.000, f1: 0.667\n",
            "EPOCH: 4\n",
            "Valid Step 1/5, valid_loss: 0.7106\n",
            "Valid Step 2/5, valid_loss: 0.7109\n",
            "Valid Step 3/5, valid_loss: 0.7112\n",
            "Valid Step 4/5, valid_loss: 0.7114\n",
            "Valid Step 5/5, valid_loss: 0.7116\n",
            "[Epoch Train: 4] loss: 0.834, time: 1.00 s            \n",
            "[Epoch Valid: 4] loss: 0.712, auc: 0.500, time: 0.00 s, precision: 0.500, recall: 1.000, f1: 0.667\n",
            "auc improved from 0.757 to 0.7116. Saved model to 'out_models-best.pth'\n",
            "EPOCH: 5\n",
            "Valid Step 1/5, valid_loss: 0.6979\n",
            "Valid Step 2/5, valid_loss: 0.6978\n",
            "Valid Step 3/5, valid_loss: 0.6819\n",
            "Valid Step 4/5, valid_loss: 0.7094\n",
            "Valid Step 5/5, valid_loss: 0.6976\n",
            "[Epoch Train: 5] loss: 0.712, time: 1.00 s            \n",
            "[Epoch Valid: 5] loss: 0.698, auc: 0.500, time: 0.00 s, precision: 0.500, recall: 1.000, f1: 0.667\n",
            "auc improved from 0.712 to 0.6976. Saved model to 'out_models-best.pth'\n",
            "EPOCH: 6\n",
            "Valid Step 1/5, valid_loss: 0.6963\n",
            "Valid Step 2/5, valid_loss: 0.7390\n",
            "Valid Step 3/5, valid_loss: 0.7105\n",
            "Valid Step 4/5, valid_loss: 0.6964\n",
            "Valid Step 5/5, valid_loss: 0.6963\n",
            "[Epoch Train: 6] loss: 0.681, time: 1.00 s            \n",
            "[Epoch Valid: 6] loss: 0.696, auc: 0.500, time: 0.00 s, precision: 0.000, recall: 0.000, f1: 0.000\n"
          ]
        },
        {
          "output_type": "stream",
          "name": "stderr",
          "text": [
            "/usr/local/lib/python3.7/dist-packages/sklearn/metrics/_classification.py:1318: UndefinedMetricWarning: Precision is ill-defined and being set to 0.0 due to no predicted samples. Use `zero_division` parameter to control this behavior.\n",
            "  _warn_prf(average, modifier, msg_start, len(result))\n"
          ]
        },
        {
          "output_type": "stream",
          "name": "stdout",
          "text": [
            "auc improved from 0.698 to 0.6963. Saved model to 'out_models-best.pth'\n",
            "EPOCH: 7\n",
            "Valid Step 1/5, valid_loss: 0.6556\n",
            "Valid Step 2/5, valid_loss: 0.6764\n",
            "Valid Step 3/5, valid_loss: 0.7108\n",
            "Valid Step 4/5, valid_loss: 0.6968\n",
            "Valid Step 5/5, valid_loss: 0.6970\n",
            "[Epoch Train: 7] loss: 0.717, time: 1.00 s            \n",
            "[Epoch Valid: 7] loss: 0.697, auc: 0.500, time: 0.00 s, precision: 0.500, recall: 1.000, f1: 0.667\n",
            "EPOCH: 8\n",
            "Valid Step 1/5, valid_loss: 0.7013\n",
            "Valid Step 2/5, valid_loss: 0.7011\n",
            "Valid Step 3/5, valid_loss: 0.7012\n",
            "Valid Step 4/5, valid_loss: 0.7011\n",
            "Valid Step 5/5, valid_loss: 0.7012\n",
            "[Epoch Train: 8] loss: 0.721, time: 1.00 s            \n",
            "[Epoch Valid: 8] loss: 0.701, auc: 0.500, time: 0.00 s, precision: 0.500, recall: 1.000, f1: 0.667\n",
            "EPOCH: 9\n",
            "Valid Step 1/5, valid_loss: 0.7169\n",
            "Valid Step 2/5, valid_loss: 0.7173\n",
            "Valid Step 3/5, valid_loss: 0.7175\n",
            "Valid Step 4/5, valid_loss: 0.7056\n",
            "Valid Step 5/5, valid_loss: 0.6939\n",
            "[Epoch Train: 9] loss: 0.717, time: 1.00 s            \n",
            "[Epoch Valid: 9] loss: 0.694, auc: 0.500, time: 0.00 s, precision: 0.500, recall: 1.000, f1: 0.667\n",
            "auc improved from 0.696 to 0.6939. Saved model to 'out_models-best.pth'\n",
            "EPOCH: 10\n",
            "Valid Step 1/5, valid_loss: 0.6939\n",
            "Valid Step 2/5, valid_loss: 0.6937\n",
            "Valid Step 3/5, valid_loss: 0.6991\n",
            "Valid Step 4/5, valid_loss: 0.6937\n",
            "Valid Step 5/5, valid_loss: 0.6936\n",
            "[Epoch Train: 10] loss: 0.705, time: 1.00 s            \n",
            "[Epoch Valid: 10] loss: 0.694, auc: 0.500, time: 0.00 s, precision: 0.500, recall: 1.000, f1: 0.667\n",
            "auc improved from 0.694 to 0.6936. Saved model to 'out_models-best.pth'\n"
          ]
        }
      ],
      "source": [
        "history = trainer.fit(\n",
        "    10, \n",
        "    train_loader, \n",
        "    test_loader, \n",
        "    'out_models', \n",
        "    10,\n",
        ")"
      ]
    },
    {
      "cell_type": "code",
      "source": [],
      "metadata": {
        "id": "UWU2-AbKmzHl"
      },
      "execution_count": 14,
      "outputs": []
    }
  ],
  "metadata": {
    "kernelspec": {
      "display_name": "Python 3.10.5 ('vit')",
      "language": "python",
      "name": "python3"
    },
    "language_info": {
      "codemirror_mode": {
        "name": "ipython",
        "version": 3
      },
      "file_extension": ".py",
      "mimetype": "text/x-python",
      "name": "python",
      "nbconvert_exporter": "python",
      "pygments_lexer": "ipython3",
      "version": "3.10.5"
    },
    "orig_nbformat": 4,
    "vscode": {
      "interpreter": {
        "hash": "528ce58f401dc61e0cae6a111b730e14d0f701a74005476bab0e3247d1c5235f"
      }
    },
    "colab": {
      "provenance": [],
      "collapsed_sections": [],
      "include_colab_link": true
    },
    "accelerator": "GPU"
  },
  "nbformat": 4,
  "nbformat_minor": 0
}